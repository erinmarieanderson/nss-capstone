{
 "cells": [
  {
   "cell_type": "code",
   "execution_count": 2,
   "metadata": {},
   "outputs": [],
   "source": [
    "import numpy as np\n",
    "import pandas as pd\n",
    "\n",
    "import seaborn as sns\n",
    "import matplotlib.pyplot as plt\n",
    "sns.set_style(\"whitegrid\")\n",
    "%matplotlib inline"
   ]
  },
  {
   "cell_type": "code",
   "execution_count": 6,
   "metadata": {},
   "outputs": [
    {
     "data": {
      "text/plain": [
       "(249, 5)"
      ]
     },
     "execution_count": 6,
     "metadata": {},
     "output_type": "execute_result"
    }
   ],
   "source": [
    "BQ_stats = pd.read_excel('../data/Boston combined.xlsx', sheet_name='BQs_over_time')\n",
    "BQ_stats.shape"
   ]
  },
  {
   "cell_type": "code",
   "execution_count": 7,
   "metadata": {},
   "outputs": [
    {
     "data": {
      "text/html": [
       "<div>\n",
       "<style scoped>\n",
       "    .dataframe tbody tr th:only-of-type {\n",
       "        vertical-align: middle;\n",
       "    }\n",
       "\n",
       "    .dataframe tbody tr th {\n",
       "        vertical-align: top;\n",
       "    }\n",
       "\n",
       "    .dataframe thead th {\n",
       "        text-align: right;\n",
       "    }\n",
       "</style>\n",
       "<table border=\"1\" class=\"dataframe\">\n",
       "  <thead>\n",
       "    <tr style=\"text-align: right;\">\n",
       "      <th></th>\n",
       "      <th>AG Ref No.</th>\n",
       "      <th>Age</th>\n",
       "      <th>Year(s)</th>\n",
       "      <th>Men</th>\n",
       "      <th>Women</th>\n",
       "    </tr>\n",
       "  </thead>\n",
       "  <tbody>\n",
       "    <tr>\n",
       "      <td>0</td>\n",
       "      <td>1</td>\n",
       "      <td>18</td>\n",
       "      <td>2003 - 2012</td>\n",
       "      <td>03:10:00</td>\n",
       "      <td>03:40:00</td>\n",
       "    </tr>\n",
       "    <tr>\n",
       "      <td>1</td>\n",
       "      <td>1</td>\n",
       "      <td>19</td>\n",
       "      <td>2003 - 2012</td>\n",
       "      <td>03:10:00</td>\n",
       "      <td>03:40:00</td>\n",
       "    </tr>\n",
       "    <tr>\n",
       "      <td>2</td>\n",
       "      <td>1</td>\n",
       "      <td>20</td>\n",
       "      <td>2003 - 2012</td>\n",
       "      <td>03:10:00</td>\n",
       "      <td>03:40:00</td>\n",
       "    </tr>\n",
       "    <tr>\n",
       "      <td>3</td>\n",
       "      <td>1</td>\n",
       "      <td>21</td>\n",
       "      <td>2003 - 2012</td>\n",
       "      <td>03:10:00</td>\n",
       "      <td>03:40:00</td>\n",
       "    </tr>\n",
       "    <tr>\n",
       "      <td>4</td>\n",
       "      <td>1</td>\n",
       "      <td>22</td>\n",
       "      <td>2003 - 2012</td>\n",
       "      <td>03:10:00</td>\n",
       "      <td>03:40:00</td>\n",
       "    </tr>\n",
       "    <tr>\n",
       "      <td>83</td>\n",
       "      <td>1</td>\n",
       "      <td>18</td>\n",
       "      <td>2013 - 2019</td>\n",
       "      <td>03:05:00</td>\n",
       "      <td>03:35:00</td>\n",
       "    </tr>\n",
       "    <tr>\n",
       "      <td>84</td>\n",
       "      <td>1</td>\n",
       "      <td>19</td>\n",
       "      <td>2013 - 2019</td>\n",
       "      <td>03:05:00</td>\n",
       "      <td>03:35:00</td>\n",
       "    </tr>\n",
       "    <tr>\n",
       "      <td>85</td>\n",
       "      <td>1</td>\n",
       "      <td>20</td>\n",
       "      <td>2013 - 2019</td>\n",
       "      <td>03:05:00</td>\n",
       "      <td>03:35:00</td>\n",
       "    </tr>\n",
       "    <tr>\n",
       "      <td>86</td>\n",
       "      <td>1</td>\n",
       "      <td>21</td>\n",
       "      <td>2013 - 2019</td>\n",
       "      <td>03:05:00</td>\n",
       "      <td>03:35:00</td>\n",
       "    </tr>\n",
       "    <tr>\n",
       "      <td>87</td>\n",
       "      <td>1</td>\n",
       "      <td>22</td>\n",
       "      <td>2013 - 2019</td>\n",
       "      <td>03:05:00</td>\n",
       "      <td>03:35:00</td>\n",
       "    </tr>\n",
       "    <tr>\n",
       "      <td>166</td>\n",
       "      <td>1</td>\n",
       "      <td>18</td>\n",
       "      <td>2020</td>\n",
       "      <td>03:00:00</td>\n",
       "      <td>03:30:00</td>\n",
       "    </tr>\n",
       "    <tr>\n",
       "      <td>167</td>\n",
       "      <td>1</td>\n",
       "      <td>19</td>\n",
       "      <td>2020</td>\n",
       "      <td>03:00:00</td>\n",
       "      <td>03:30:00</td>\n",
       "    </tr>\n",
       "    <tr>\n",
       "      <td>168</td>\n",
       "      <td>1</td>\n",
       "      <td>20</td>\n",
       "      <td>2020</td>\n",
       "      <td>03:00:00</td>\n",
       "      <td>03:30:00</td>\n",
       "    </tr>\n",
       "    <tr>\n",
       "      <td>169</td>\n",
       "      <td>1</td>\n",
       "      <td>21</td>\n",
       "      <td>2020</td>\n",
       "      <td>03:00:00</td>\n",
       "      <td>03:30:00</td>\n",
       "    </tr>\n",
       "    <tr>\n",
       "      <td>170</td>\n",
       "      <td>1</td>\n",
       "      <td>22</td>\n",
       "      <td>2020</td>\n",
       "      <td>03:00:00</td>\n",
       "      <td>03:30:00</td>\n",
       "    </tr>\n",
       "  </tbody>\n",
       "</table>\n",
       "</div>"
      ],
      "text/plain": [
       "     AG Ref No.  Age      Year(s)       Men     Women\n",
       "0             1   18  2003 - 2012  03:10:00  03:40:00\n",
       "1             1   19  2003 - 2012  03:10:00  03:40:00\n",
       "2             1   20  2003 - 2012  03:10:00  03:40:00\n",
       "3             1   21  2003 - 2012  03:10:00  03:40:00\n",
       "4             1   22  2003 - 2012  03:10:00  03:40:00\n",
       "83            1   18  2013 - 2019  03:05:00  03:35:00\n",
       "84            1   19  2013 - 2019  03:05:00  03:35:00\n",
       "85            1   20  2013 - 2019  03:05:00  03:35:00\n",
       "86            1   21  2013 - 2019  03:05:00  03:35:00\n",
       "87            1   22  2013 - 2019  03:05:00  03:35:00\n",
       "166           1   18         2020  03:00:00  03:30:00\n",
       "167           1   19         2020  03:00:00  03:30:00\n",
       "168           1   20         2020  03:00:00  03:30:00\n",
       "169           1   21         2020  03:00:00  03:30:00\n",
       "170           1   22         2020  03:00:00  03:30:00"
      ]
     },
     "execution_count": 7,
     "metadata": {},
     "output_type": "execute_result"
    }
   ],
   "source": [
    "BQ_by_year = BQ_stats.groupby(['Year(s)'])\n",
    "BQ_by_year.head()"
   ]
  },
  {
   "cell_type": "code",
   "execution_count": 8,
   "metadata": {},
   "outputs": [],
   "source": [
    "#import seaborn as sns; sns.set()\n",
    "#import matplotlib.pyplot as plt\n",
    "#tips = sns.load_dataset(\"tips\")"
   ]
  },
  {
   "cell_type": "code",
   "execution_count": 9,
   "metadata": {},
   "outputs": [
    {
     "data": {
      "image/png": "[encoded data removed]",
      "text/plain": [
       "<Figure size 432x288 with 1 Axes>"
      ]
     },
     "metadata": {
      "needs_background": "light"
     },
     "output_type": "display_data"
    }
   ],
   "source": [
    "ax = sns.scatterplot(x=\"Age\", y=\"Men\", hue=\"Year(s)\",\n",
    "                     data=BQ_stats)"
   ]
  },
  {
   "cell_type": "code",
   "execution_count": 10,
   "metadata": {},
   "outputs": [
    {
     "data": {
      "text/plain": [
       "(120, 6)"
      ]
     },
     "execution_count": 10,
     "metadata": {},
     "output_type": "execute_result"
    }
   ],
   "source": [
    "AG_Perc_of_Div_Winners = pd.read_excel('../data/Boston combined.xlsx', sheet_name='AG% of Div Winners')\n",
    "AG_Perc_of_Div_Winners.shape"
   ]
  },
  {
   "cell_type": "code",
   "execution_count": 23,
   "metadata": {},
   "outputs": [
    {
     "data": {
      "text/html": [
       "<div>\n",
       "<style scoped>\n",
       "    .dataframe tbody tr th:only-of-type {\n",
       "        vertical-align: middle;\n",
       "    }\n",
       "\n",
       "    .dataframe tbody tr th {\n",
       "        vertical-align: top;\n",
       "    }\n",
       "\n",
       "    .dataframe thead th {\n",
       "        text-align: right;\n",
       "    }\n",
       "</style>\n",
       "<table border=\"1\" class=\"dataframe\">\n",
       "  <thead>\n",
       "    <tr style=\"text-align: right;\">\n",
       "      <th></th>\n",
       "      <th>Year</th>\n",
       "      <th>City</th>\n",
       "      <th>Gender</th>\n",
       "      <th>Age Group</th>\n",
       "      <th>Division Place</th>\n",
       "      <th>AG %</th>\n",
       "    </tr>\n",
       "  </thead>\n",
       "  <tbody>\n",
       "    <tr>\n",
       "      <td>0</td>\n",
       "      <td>2009</td>\n",
       "      <td>Boston</td>\n",
       "      <td>F</td>\n",
       "      <td>18-39</td>\n",
       "      <td>1</td>\n",
       "      <td>0.890300</td>\n",
       "    </tr>\n",
       "    <tr>\n",
       "      <td>1</td>\n",
       "      <td>2009</td>\n",
       "      <td>Boston</td>\n",
       "      <td>F</td>\n",
       "      <td>40-44</td>\n",
       "      <td>1</td>\n",
       "      <td>0.890200</td>\n",
       "    </tr>\n",
       "    <tr>\n",
       "      <td>2</td>\n",
       "      <td>2009</td>\n",
       "      <td>Boston</td>\n",
       "      <td>F</td>\n",
       "      <td>45-49</td>\n",
       "      <td>1</td>\n",
       "      <td>0.933900</td>\n",
       "    </tr>\n",
       "    <tr>\n",
       "      <td>3</td>\n",
       "      <td>2009</td>\n",
       "      <td>Boston</td>\n",
       "      <td>F</td>\n",
       "      <td>50-54</td>\n",
       "      <td>1</td>\n",
       "      <td>0.918000</td>\n",
       "    </tr>\n",
       "    <tr>\n",
       "      <td>4</td>\n",
       "      <td>2009</td>\n",
       "      <td>Boston</td>\n",
       "      <td>F</td>\n",
       "      <td>55-59</td>\n",
       "      <td>1</td>\n",
       "      <td>0.820800</td>\n",
       "    </tr>\n",
       "    <tr>\n",
       "      <td>...</td>\n",
       "      <td>...</td>\n",
       "      <td>...</td>\n",
       "      <td>...</td>\n",
       "      <td>...</td>\n",
       "      <td>...</td>\n",
       "      <td>...</td>\n",
       "    </tr>\n",
       "    <tr>\n",
       "      <td>115</td>\n",
       "      <td>2019</td>\n",
       "      <td>Boston</td>\n",
       "      <td>M</td>\n",
       "      <td>60-64</td>\n",
       "      <td>3</td>\n",
       "      <td>0.877387</td>\n",
       "    </tr>\n",
       "    <tr>\n",
       "      <td>116</td>\n",
       "      <td>2019</td>\n",
       "      <td>Boston</td>\n",
       "      <td>M</td>\n",
       "      <td>65-69</td>\n",
       "      <td>3</td>\n",
       "      <td>0.792247</td>\n",
       "    </tr>\n",
       "    <tr>\n",
       "      <td>117</td>\n",
       "      <td>2019</td>\n",
       "      <td>Boston</td>\n",
       "      <td>M</td>\n",
       "      <td>70-74</td>\n",
       "      <td>3</td>\n",
       "      <td>0.775268</td>\n",
       "    </tr>\n",
       "    <tr>\n",
       "      <td>118</td>\n",
       "      <td>2019</td>\n",
       "      <td>Boston</td>\n",
       "      <td>M</td>\n",
       "      <td>75-79</td>\n",
       "      <td>3</td>\n",
       "      <td>0.728967</td>\n",
       "    </tr>\n",
       "    <tr>\n",
       "      <td>119</td>\n",
       "      <td>2019</td>\n",
       "      <td>Boston</td>\n",
       "      <td>M</td>\n",
       "      <td>80+</td>\n",
       "      <td>3</td>\n",
       "      <td>0.763633</td>\n",
       "    </tr>\n",
       "  </tbody>\n",
       "</table>\n",
       "<p>120 rows × 6 columns</p>\n",
       "</div>"
      ],
      "text/plain": [
       "     Year    City Gender Age Group  Division Place      AG %\n",
       "0    2009  Boston      F     18-39               1  0.890300\n",
       "1    2009  Boston      F     40-44               1  0.890200\n",
       "2    2009  Boston      F     45-49               1  0.933900\n",
       "3    2009  Boston      F     50-54               1  0.918000\n",
       "4    2009  Boston      F     55-59               1  0.820800\n",
       "..    ...     ...    ...       ...             ...       ...\n",
       "115  2019  Boston      M     60-64               3  0.877387\n",
       "116  2019  Boston      M     65-69               3  0.792247\n",
       "117  2019  Boston      M     70-74               3  0.775268\n",
       "118  2019  Boston      M     75-79               3  0.728967\n",
       "119  2019  Boston      M       80+               3  0.763633\n",
       "\n",
       "[120 rows x 6 columns]"
      ]
     },
     "execution_count": 23,
     "metadata": {},
     "output_type": "execute_result"
    }
   ],
   "source": [
    "AG_Perc_of_Div_Winners"
   ]
  },
  {
   "cell_type": "code",
   "execution_count": 26,
   "metadata": {},
   "outputs": [
    {
     "data": {
      "text/html": [
       "<div>\n",
       "<style scoped>\n",
       "    .dataframe tbody tr th:only-of-type {\n",
       "        vertical-align: middle;\n",
       "    }\n",
       "\n",
       "    .dataframe tbody tr th {\n",
       "        vertical-align: top;\n",
       "    }\n",
       "\n",
       "    .dataframe thead th {\n",
       "        text-align: right;\n",
       "    }\n",
       "</style>\n",
       "<table border=\"1\" class=\"dataframe\">\n",
       "  <thead>\n",
       "    <tr style=\"text-align: right;\">\n",
       "      <th></th>\n",
       "      <th>Year</th>\n",
       "      <th>City</th>\n",
       "      <th>Gender</th>\n",
       "      <th>Age Group</th>\n",
       "      <th>Division Place</th>\n",
       "      <th>AG %</th>\n",
       "    </tr>\n",
       "  </thead>\n",
       "  <tbody>\n",
       "    <tr>\n",
       "      <td>0</td>\n",
       "      <td>2009</td>\n",
       "      <td>Boston</td>\n",
       "      <td>F</td>\n",
       "      <td>18-39</td>\n",
       "      <td>1</td>\n",
       "      <td>0.890300</td>\n",
       "    </tr>\n",
       "    <tr>\n",
       "      <td>1</td>\n",
       "      <td>2009</td>\n",
       "      <td>Boston</td>\n",
       "      <td>F</td>\n",
       "      <td>40-44</td>\n",
       "      <td>1</td>\n",
       "      <td>0.890200</td>\n",
       "    </tr>\n",
       "    <tr>\n",
       "      <td>2</td>\n",
       "      <td>2009</td>\n",
       "      <td>Boston</td>\n",
       "      <td>F</td>\n",
       "      <td>45-49</td>\n",
       "      <td>1</td>\n",
       "      <td>0.933900</td>\n",
       "    </tr>\n",
       "    <tr>\n",
       "      <td>3</td>\n",
       "      <td>2009</td>\n",
       "      <td>Boston</td>\n",
       "      <td>F</td>\n",
       "      <td>50-54</td>\n",
       "      <td>1</td>\n",
       "      <td>0.918000</td>\n",
       "    </tr>\n",
       "    <tr>\n",
       "      <td>4</td>\n",
       "      <td>2009</td>\n",
       "      <td>Boston</td>\n",
       "      <td>F</td>\n",
       "      <td>55-59</td>\n",
       "      <td>1</td>\n",
       "      <td>0.820800</td>\n",
       "    </tr>\n",
       "    <tr>\n",
       "      <td>30</td>\n",
       "      <td>2009</td>\n",
       "      <td>Boston</td>\n",
       "      <td>M</td>\n",
       "      <td>18-39</td>\n",
       "      <td>1</td>\n",
       "      <td>0.955322</td>\n",
       "    </tr>\n",
       "    <tr>\n",
       "      <td>31</td>\n",
       "      <td>2009</td>\n",
       "      <td>Boston</td>\n",
       "      <td>M</td>\n",
       "      <td>40-44</td>\n",
       "      <td>1</td>\n",
       "      <td>0.937400</td>\n",
       "    </tr>\n",
       "    <tr>\n",
       "      <td>32</td>\n",
       "      <td>2009</td>\n",
       "      <td>Boston</td>\n",
       "      <td>M</td>\n",
       "      <td>45-49</td>\n",
       "      <td>1</td>\n",
       "      <td>0.868300</td>\n",
       "    </tr>\n",
       "    <tr>\n",
       "      <td>33</td>\n",
       "      <td>2009</td>\n",
       "      <td>Boston</td>\n",
       "      <td>M</td>\n",
       "      <td>50-54</td>\n",
       "      <td>1</td>\n",
       "      <td>0.846100</td>\n",
       "    </tr>\n",
       "    <tr>\n",
       "      <td>34</td>\n",
       "      <td>2009</td>\n",
       "      <td>Boston</td>\n",
       "      <td>M</td>\n",
       "      <td>55-59</td>\n",
       "      <td>1</td>\n",
       "      <td>0.869300</td>\n",
       "    </tr>\n",
       "  </tbody>\n",
       "</table>\n",
       "</div>"
      ],
      "text/plain": [
       "    Year    City Gender Age Group  Division Place      AG %\n",
       "0   2009  Boston      F     18-39               1  0.890300\n",
       "1   2009  Boston      F     40-44               1  0.890200\n",
       "2   2009  Boston      F     45-49               1  0.933900\n",
       "3   2009  Boston      F     50-54               1  0.918000\n",
       "4   2009  Boston      F     55-59               1  0.820800\n",
       "30  2009  Boston      M     18-39               1  0.955322\n",
       "31  2009  Boston      M     40-44               1  0.937400\n",
       "32  2009  Boston      M     45-49               1  0.868300\n",
       "33  2009  Boston      M     50-54               1  0.846100\n",
       "34  2009  Boston      M     55-59               1  0.869300"
      ]
     },
     "execution_count": 26,
     "metadata": {},
     "output_type": "execute_result"
    }
   ],
   "source": [
    "AG_Div_Win_by_Gender = AG_Perc_of_Div_Winners.groupby(['Gender'])\n",
    "AG_Div_Win_by_Gender.head()"
   ]
  },
  {
   "cell_type": "code",
   "execution_count": 28,
   "metadata": {},
   "outputs": [
    {
     "data": {
      "image/png": "[encoded data removed]",
      "text/plain": [
       "<Figure size 432x288 with 1 Axes>"
      ]
     },
     "metadata": {
      "needs_background": "light"
     },
     "output_type": "display_data"
    }
   ],
   "source": [
    "ax = sns.scatterplot(x=\"Age Group\", y=\"AG %\", hue=\"Year\", size = \"Division Place\", palette = 'Set2',\n",
    "                     data=AG_Perc_of_Div_Winners)"
   ]
  },
  {
   "cell_type": "code",
   "execution_count": 56,
   "metadata": {},
   "outputs": [
    {
     "data": {
      "image/png": "[encoded data removed]",
      "text/plain": [
       "<Figure size 819x360 with 2 Axes>"
      ]
     },
     "metadata": {
      "needs_background": "light"
     },
     "output_type": "display_data"
    }
   ],
   "source": [
    "g = sns.relplot(x=\"Age Group\", y=\"AG %\",\n",
    "                 col=\"Gender\", hue=\"Year\", style=\"Division Place\",\n",
    "                 kind=\"scatter\", legend = 'full', data=AG_Perc_of_Div_Winners)\n",
    "g.fig.subplots_adjust(top=.8)\n",
    "g.fig.suptitle('Age-Grade Percentage of 1st, 2nd, & 3rd Division Finishers', fontsize=20);"
   ]
  },
  {
   "cell_type": "code",
   "execution_count": 39,
   "metadata": {},
   "outputs": [
    {
     "data": {
      "text/html": [
       "<div>\n",
       "<style scoped>\n",
       "    .dataframe tbody tr th:only-of-type {\n",
       "        vertical-align: middle;\n",
       "    }\n",
       "\n",
       "    .dataframe tbody tr th {\n",
       "        vertical-align: top;\n",
       "    }\n",
       "\n",
       "    .dataframe thead th {\n",
       "        text-align: right;\n",
       "    }\n",
       "</style>\n",
       "<table border=\"1\" class=\"dataframe\">\n",
       "  <thead>\n",
       "    <tr style=\"text-align: right;\">\n",
       "      <th></th>\n",
       "      <th>Bib</th>\n",
       "      <th>Name</th>\n",
       "      <th>Age</th>\n",
       "      <th>Gender</th>\n",
       "      <th>City</th>\n",
       "      <th>St</th>\n",
       "      <th>Cty</th>\n",
       "      <th>Pace</th>\n",
       "      <th>Time</th>\n",
       "      <th>Overall_Place</th>\n",
       "      <th>Gender_Place</th>\n",
       "      <th>Division_Place</th>\n",
       "      <th>AG_Pct</th>\n",
       "      <th>AG_Time</th>\n",
       "      <th>AG_Place</th>\n",
       "      <th>Place_Diff</th>\n",
       "      <th>Age_Group</th>\n",
       "      <th>Race_Year</th>\n",
       "      <th>Race_City</th>\n",
       "    </tr>\n",
       "  </thead>\n",
       "  <tbody>\n",
       "    <tr>\n",
       "      <td>0</td>\n",
       "      <td>4</td>\n",
       "      <td>Merga, Deriba</td>\n",
       "      <td>28</td>\n",
       "      <td>M</td>\n",
       "      <td>Addis Ababa</td>\n",
       "      <td>NaN</td>\n",
       "      <td>ETH</td>\n",
       "      <td>00:04:55</td>\n",
       "      <td>02:08:42</td>\n",
       "      <td>1</td>\n",
       "      <td>1</td>\n",
       "      <td>1</td>\n",
       "      <td>0.955322</td>\n",
       "      <td>02:08:42</td>\n",
       "      <td>1</td>\n",
       "      <td>0.0</td>\n",
       "      <td>18-39</td>\n",
       "      <td>2009-01-01</td>\n",
       "      <td>Boston</td>\n",
       "    </tr>\n",
       "    <tr>\n",
       "      <td>1</td>\n",
       "      <td>5</td>\n",
       "      <td>Rono, Daniel</td>\n",
       "      <td>30</td>\n",
       "      <td>M</td>\n",
       "      <td>Keiyo</td>\n",
       "      <td>NaN</td>\n",
       "      <td>KEN</td>\n",
       "      <td>00:04:57</td>\n",
       "      <td>02:09:32</td>\n",
       "      <td>2</td>\n",
       "      <td>2</td>\n",
       "      <td>2</td>\n",
       "      <td>0.949200</td>\n",
       "      <td>02:09:32</td>\n",
       "      <td>2</td>\n",
       "      <td>0.0</td>\n",
       "      <td>18-39</td>\n",
       "      <td>2009-01-01</td>\n",
       "      <td>Boston</td>\n",
       "    </tr>\n",
       "    <tr>\n",
       "      <td>2</td>\n",
       "      <td>2</td>\n",
       "      <td>Hall, Ryan</td>\n",
       "      <td>26</td>\n",
       "      <td>M</td>\n",
       "      <td>Mammoth Lakes</td>\n",
       "      <td>CA</td>\n",
       "      <td>USA</td>\n",
       "      <td>00:04:57</td>\n",
       "      <td>02:09:40</td>\n",
       "      <td>3</td>\n",
       "      <td>3</td>\n",
       "      <td>3</td>\n",
       "      <td>0.948200</td>\n",
       "      <td>02:09:40</td>\n",
       "      <td>3</td>\n",
       "      <td>0.0</td>\n",
       "      <td>18-39</td>\n",
       "      <td>2009-01-01</td>\n",
       "      <td>Boston</td>\n",
       "    </tr>\n",
       "    <tr>\n",
       "      <td>3</td>\n",
       "      <td>19</td>\n",
       "      <td>Kebede, Tekeste</td>\n",
       "      <td>27</td>\n",
       "      <td>M</td>\n",
       "      <td>Addis Ababa</td>\n",
       "      <td>NaN</td>\n",
       "      <td>ETH</td>\n",
       "      <td>00:04:57</td>\n",
       "      <td>02:09:49</td>\n",
       "      <td>4</td>\n",
       "      <td>4</td>\n",
       "      <td>4</td>\n",
       "      <td>0.947100</td>\n",
       "      <td>02:09:49</td>\n",
       "      <td>4</td>\n",
       "      <td>0.0</td>\n",
       "      <td>18-39</td>\n",
       "      <td>2009-01-01</td>\n",
       "      <td>Boston</td>\n",
       "    </tr>\n",
       "    <tr>\n",
       "      <td>4</td>\n",
       "      <td>7</td>\n",
       "      <td>Cheruiyot, Robert</td>\n",
       "      <td>20</td>\n",
       "      <td>M</td>\n",
       "      <td>Bomet</td>\n",
       "      <td>NaN</td>\n",
       "      <td>KEN</td>\n",
       "      <td>00:04:58</td>\n",
       "      <td>02:10:06</td>\n",
       "      <td>5</td>\n",
       "      <td>5</td>\n",
       "      <td>5</td>\n",
       "      <td>0.945000</td>\n",
       "      <td>02:10:06</td>\n",
       "      <td>5</td>\n",
       "      <td>0.0</td>\n",
       "      <td>18-39</td>\n",
       "      <td>2009-01-01</td>\n",
       "      <td>Boston</td>\n",
       "    </tr>\n",
       "  </tbody>\n",
       "</table>\n",
       "</div>"
      ],
      "text/plain": [
       "  Bib               Name  Age Gender           City   St  Cty      Pace  \\\n",
       "0   4      Merga, Deriba   28      M    Addis Ababa  NaN  ETH  00:04:55   \n",
       "1   5       Rono, Daniel   30      M          Keiyo  NaN  KEN  00:04:57   \n",
       "2   2         Hall, Ryan   26      M  Mammoth Lakes   CA  USA  00:04:57   \n",
       "3  19    Kebede, Tekeste   27      M    Addis Ababa  NaN  ETH  00:04:57   \n",
       "4   7  Cheruiyot, Robert   20      M          Bomet  NaN  KEN  00:04:58   \n",
       "\n",
       "       Time  Overall_Place  Gender_Place  Division_Place    AG_Pct   AG_Time  \\\n",
       "0  02:08:42              1             1               1  0.955322  02:08:42   \n",
       "1  02:09:32              2             2               2  0.949200  02:09:32   \n",
       "2  02:09:40              3             3               3  0.948200  02:09:40   \n",
       "3  02:09:49              4             4               4  0.947100  02:09:49   \n",
       "4  02:10:06              5             5               5  0.945000  02:10:06   \n",
       "\n",
       "   AG_Place  Place_Diff Age_Group  Race_Year Race_City  \n",
       "0         1         0.0     18-39 2009-01-01    Boston  \n",
       "1         2         0.0     18-39 2009-01-01    Boston  \n",
       "2         3         0.0     18-39 2009-01-01    Boston  \n",
       "3         4         0.0     18-39 2009-01-01    Boston  \n",
       "4         5         0.0     18-39 2009-01-01    Boston  "
      ]
     },
     "execution_count": 39,
     "metadata": {},
     "output_type": "execute_result"
    }
   ],
   "source": [
    "bos_combo = pd.read_excel('../data/Boston combined.xlsx', sheet_name='bos_combo', usecols = [\"Bib\", \"Name\", \"Age\", \"M/F\", \"City\", \"State\", \"Country\", \"Pace\", \"Official_Time\", \"Overall\", \"Gender\", \"Division\", \"Race Score\", \"Age-graded result\", \"Age-graded place\", \"Place Difference\", 'Age Group', 'Year', 'Race'])\n",
    "bos_combo.columns = ['Bib', 'Name', 'Age', 'Gender', 'City', 'St', 'Cty', 'Pace', 'Time', 'Overall_Place', 'Gender_Place', 'Division_Place', 'AG_Pct', 'AG_Time', 'AG_Place', 'Place_Diff', 'Age_Group', 'Race_Year', 'Race_City']\n",
    "bos_combo.head()"
   ]
  },
  {
   "cell_type": "code",
   "execution_count": 57,
   "metadata": {},
   "outputs": [
    {
     "data": {
      "text/plain": [
       "Bib                       object\n",
       "Name                      object\n",
       "Age                        int64\n",
       "Gender                    object\n",
       "City                      object\n",
       "St                        object\n",
       "Cty                       object\n",
       "Pace                      object\n",
       "Time                      object\n",
       "Overall_Place              int64\n",
       "Gender_Place               int64\n",
       "Division_Place             int64\n",
       "AG_Pct                   float64\n",
       "AG_Time                   object\n",
       "AG_Place                   int64\n",
       "Place_Diff               float64\n",
       "Age_Group                 object\n",
       "Race_Year         datetime64[ns]\n",
       "Race_City                 object\n",
       "dtype: object"
      ]
     },
     "execution_count": 57,
     "metadata": {},
     "output_type": "execute_result"
    }
   ],
   "source": [
    "bos_combo.dtypes"
   ]
  },
  {
   "cell_type": "code",
   "execution_count": 60,
   "metadata": {},
   "outputs": [
    {
     "data": {
      "text/html": [
       "<div>\n",
       "<style scoped>\n",
       "    .dataframe tbody tr th:only-of-type {\n",
       "        vertical-align: middle;\n",
       "    }\n",
       "\n",
       "    .dataframe tbody tr th {\n",
       "        vertical-align: top;\n",
       "    }\n",
       "\n",
       "    .dataframe thead th {\n",
       "        text-align: right;\n",
       "    }\n",
       "</style>\n",
       "<table border=\"1\" class=\"dataframe\">\n",
       "  <thead>\n",
       "    <tr style=\"text-align: right;\">\n",
       "      <th></th>\n",
       "      <th>Age</th>\n",
       "      <th>Overall_Place</th>\n",
       "      <th>Gender_Place</th>\n",
       "      <th>Division_Place</th>\n",
       "      <th>AG_Pct</th>\n",
       "      <th>AG_Place</th>\n",
       "      <th>Place_Diff</th>\n",
       "    </tr>\n",
       "  </thead>\n",
       "  <tbody>\n",
       "    <tr>\n",
       "      <td>count</td>\n",
       "      <td>49509.000000</td>\n",
       "      <td>49509.000000</td>\n",
       "      <td>49509.000000</td>\n",
       "      <td>49509.000000</td>\n",
       "      <td>49509.000000</td>\n",
       "      <td>49509.000000</td>\n",
       "      <td>26656.000000</td>\n",
       "    </tr>\n",
       "    <tr>\n",
       "      <td>mean</td>\n",
       "      <td>41.953928</td>\n",
       "      <td>12449.708093</td>\n",
       "      <td>6352.715668</td>\n",
       "      <td>1574.942536</td>\n",
       "      <td>0.610155</td>\n",
       "      <td>12450.781211</td>\n",
       "      <td>136.400098</td>\n",
       "    </tr>\n",
       "    <tr>\n",
       "      <td>std</td>\n",
       "      <td>11.226795</td>\n",
       "      <td>7270.848738</td>\n",
       "      <td>3829.711497</td>\n",
       "      <td>1389.200636</td>\n",
       "      <td>0.090722</td>\n",
       "      <td>7271.108893</td>\n",
       "      <td>3249.017495</td>\n",
       "    </tr>\n",
       "    <tr>\n",
       "      <td>min</td>\n",
       "      <td>18.000000</td>\n",
       "      <td>1.000000</td>\n",
       "      <td>1.000000</td>\n",
       "      <td>1.000000</td>\n",
       "      <td>0.281791</td>\n",
       "      <td>1.000000</td>\n",
       "      <td>-4305.000000</td>\n",
       "    </tr>\n",
       "    <tr>\n",
       "      <td>25%</td>\n",
       "      <td>33.000000</td>\n",
       "      <td>6188.000000</td>\n",
       "      <td>3094.000000</td>\n",
       "      <td>492.000000</td>\n",
       "      <td>0.558500</td>\n",
       "      <td>6189.000000</td>\n",
       "      <td>-1980.000000</td>\n",
       "    </tr>\n",
       "    <tr>\n",
       "      <td>50%</td>\n",
       "      <td>42.000000</td>\n",
       "      <td>12376.000000</td>\n",
       "      <td>6188.000000</td>\n",
       "      <td>1149.000000</td>\n",
       "      <td>0.621500</td>\n",
       "      <td>12378.000000</td>\n",
       "      <td>-378.000000</td>\n",
       "    </tr>\n",
       "    <tr>\n",
       "      <td>75%</td>\n",
       "      <td>50.000000</td>\n",
       "      <td>18565.000000</td>\n",
       "      <td>9282.000000</td>\n",
       "      <td>2228.000000</td>\n",
       "      <td>0.669300</td>\n",
       "      <td>18566.000000</td>\n",
       "      <td>1517.000000</td>\n",
       "    </tr>\n",
       "    <tr>\n",
       "      <td>max</td>\n",
       "      <td>83.000000</td>\n",
       "      <td>26657.000000</td>\n",
       "      <td>14675.000000</td>\n",
       "      <td>5660.000000</td>\n",
       "      <td>0.970156</td>\n",
       "      <td>26656.000000</td>\n",
       "      <td>23432.000000</td>\n",
       "    </tr>\n",
       "  </tbody>\n",
       "</table>\n",
       "</div>"
      ],
      "text/plain": [
       "                Age  Overall_Place  Gender_Place  Division_Place  \\\n",
       "count  49509.000000   49509.000000  49509.000000    49509.000000   \n",
       "mean      41.953928   12449.708093   6352.715668     1574.942536   \n",
       "std       11.226795    7270.848738   3829.711497     1389.200636   \n",
       "min       18.000000       1.000000      1.000000        1.000000   \n",
       "25%       33.000000    6188.000000   3094.000000      492.000000   \n",
       "50%       42.000000   12376.000000   6188.000000     1149.000000   \n",
       "75%       50.000000   18565.000000   9282.000000     2228.000000   \n",
       "max       83.000000   26657.000000  14675.000000     5660.000000   \n",
       "\n",
       "             AG_Pct      AG_Place    Place_Diff  \n",
       "count  49509.000000  49509.000000  26656.000000  \n",
       "mean       0.610155  12450.781211    136.400098  \n",
       "std        0.090722   7271.108893   3249.017495  \n",
       "min        0.281791      1.000000  -4305.000000  \n",
       "25%        0.558500   6189.000000  -1980.000000  \n",
       "50%        0.621500  12378.000000   -378.000000  \n",
       "75%        0.669300  18566.000000   1517.000000  \n",
       "max        0.970156  26656.000000  23432.000000  "
      ]
     },
     "execution_count": 60,
     "metadata": {},
     "output_type": "execute_result"
    }
   ],
   "source": [
    "bos_combo.describe()"
   ]
  },
  {
   "cell_type": "code",
   "execution_count": 63,
   "metadata": {},
   "outputs": [
    {
     "data": {
      "text/plain": [
       "<matplotlib.axes._subplots.AxesSubplot at 0x245fb2b17c8>"
      ]
     },
     "execution_count": 63,
     "metadata": {},
     "output_type": "execute_result"
    },
    {
     "data": {
      "image/png": "[encoded data removed]",
      "text/plain": [
       "<Figure size 432x288 with 1 Axes>"
      ]
     },
     "metadata": {
      "needs_background": "light"
     },
     "output_type": "display_data"
    }
   ],
   "source": [
    "bos_combo.plot(x ='Overall_Place', y='AG_Pct', kind = 'scatter')"
   ]
  },
  {
   "cell_type": "code",
   "execution_count": 64,
   "metadata": {},
   "outputs": [
    {
     "data": {
      "text/plain": [
       "(39, 19)"
      ]
     },
     "execution_count": 64,
     "metadata": {},
     "output_type": "execute_result"
    }
   ],
   "source": [
    "age_winners = bos_combo[bos_combo['Division_Place'] <= 1]\n",
    "age_winners.shape"
   ]
  },
  {
   "cell_type": "code",
   "execution_count": 70,
   "metadata": {},
   "outputs": [
    {
     "ename": "TypeError",
     "evalue": "hist() got multiple values for argument 'x'",
     "output_type": "error",
     "traceback": [
      "\u001b[1;31m---------------------------------------------------------------------------\u001b[0m",
      "\u001b[1;31mTypeError\u001b[0m                                 Traceback (most recent call last)",
      "\u001b[1;32m<ipython-input-70-c1be1b6aff12>\u001b[0m in \u001b[0;36m<module>\u001b[1;34m\u001b[0m\n\u001b[1;32m----> 1\u001b[1;33m \u001b[0mage_winners\u001b[0m\u001b[1;33m.\u001b[0m\u001b[0mhist\u001b[0m\u001b[1;33m(\u001b[0m\u001b[0mx\u001b[0m \u001b[1;33m=\u001b[0m\u001b[1;34m'Age_Group'\u001b[0m\u001b[1;33m)\u001b[0m\u001b[1;33m\u001b[0m\u001b[1;33m\u001b[0m\u001b[0m\n\u001b[0m",
      "\u001b[1;32m~\\Anaconda3\\lib\\site-packages\\pandas\\plotting\\_core.py\u001b[0m in \u001b[0;36mhist_frame\u001b[1;34m(data, column, by, grid, xlabelsize, xrot, ylabelsize, yrot, ax, sharex, sharey, figsize, layout, bins, **kwds)\u001b[0m\n\u001b[0;32m    197\u001b[0m         \u001b[0mlayout\u001b[0m\u001b[1;33m=\u001b[0m\u001b[0mlayout\u001b[0m\u001b[1;33m,\u001b[0m\u001b[1;33m\u001b[0m\u001b[1;33m\u001b[0m\u001b[0m\n\u001b[0;32m    198\u001b[0m         \u001b[0mbins\u001b[0m\u001b[1;33m=\u001b[0m\u001b[0mbins\u001b[0m\u001b[1;33m,\u001b[0m\u001b[1;33m\u001b[0m\u001b[1;33m\u001b[0m\u001b[0m\n\u001b[1;32m--> 199\u001b[1;33m         \u001b[1;33m**\u001b[0m\u001b[0mkwds\u001b[0m\u001b[1;33m\u001b[0m\u001b[1;33m\u001b[0m\u001b[0m\n\u001b[0m\u001b[0;32m    200\u001b[0m     )\n\u001b[0;32m    201\u001b[0m \u001b[1;33m\u001b[0m\u001b[0m\n",
      "\u001b[1;32m~\\Anaconda3\\lib\\site-packages\\pandas\\plotting\\_matplotlib\\hist.py\u001b[0m in \u001b[0;36mhist_frame\u001b[1;34m(data, column, by, grid, xlabelsize, xrot, ylabelsize, yrot, ax, sharex, sharey, figsize, layout, bins, **kwds)\u001b[0m\n\u001b[0;32m    410\u001b[0m     \u001b[1;32mfor\u001b[0m \u001b[0mi\u001b[0m\u001b[1;33m,\u001b[0m \u001b[0mcol\u001b[0m \u001b[1;32min\u001b[0m \u001b[0menumerate\u001b[0m\u001b[1;33m(\u001b[0m\u001b[0mcom\u001b[0m\u001b[1;33m.\u001b[0m\u001b[0mtry_sort\u001b[0m\u001b[1;33m(\u001b[0m\u001b[0mdata\u001b[0m\u001b[1;33m.\u001b[0m\u001b[0mcolumns\u001b[0m\u001b[1;33m)\u001b[0m\u001b[1;33m)\u001b[0m\u001b[1;33m:\u001b[0m\u001b[1;33m\u001b[0m\u001b[1;33m\u001b[0m\u001b[0m\n\u001b[0;32m    411\u001b[0m         \u001b[0max\u001b[0m \u001b[1;33m=\u001b[0m \u001b[0m_axes\u001b[0m\u001b[1;33m[\u001b[0m\u001b[0mi\u001b[0m\u001b[1;33m]\u001b[0m\u001b[1;33m\u001b[0m\u001b[1;33m\u001b[0m\u001b[0m\n\u001b[1;32m--> 412\u001b[1;33m         \u001b[0max\u001b[0m\u001b[1;33m.\u001b[0m\u001b[0mhist\u001b[0m\u001b[1;33m(\u001b[0m\u001b[0mdata\u001b[0m\u001b[1;33m[\u001b[0m\u001b[0mcol\u001b[0m\u001b[1;33m]\u001b[0m\u001b[1;33m.\u001b[0m\u001b[0mdropna\u001b[0m\u001b[1;33m(\u001b[0m\u001b[1;33m)\u001b[0m\u001b[1;33m.\u001b[0m\u001b[0mvalues\u001b[0m\u001b[1;33m,\u001b[0m \u001b[0mbins\u001b[0m\u001b[1;33m=\u001b[0m\u001b[0mbins\u001b[0m\u001b[1;33m,\u001b[0m \u001b[1;33m**\u001b[0m\u001b[0mkwds\u001b[0m\u001b[1;33m)\u001b[0m\u001b[1;33m\u001b[0m\u001b[1;33m\u001b[0m\u001b[0m\n\u001b[0m\u001b[0;32m    413\u001b[0m         \u001b[0max\u001b[0m\u001b[1;33m.\u001b[0m\u001b[0mset_title\u001b[0m\u001b[1;33m(\u001b[0m\u001b[0mcol\u001b[0m\u001b[1;33m)\u001b[0m\u001b[1;33m\u001b[0m\u001b[1;33m\u001b[0m\u001b[0m\n\u001b[0;32m    414\u001b[0m         \u001b[0max\u001b[0m\u001b[1;33m.\u001b[0m\u001b[0mgrid\u001b[0m\u001b[1;33m(\u001b[0m\u001b[0mgrid\u001b[0m\u001b[1;33m)\u001b[0m\u001b[1;33m\u001b[0m\u001b[1;33m\u001b[0m\u001b[0m\n",
      "\u001b[1;32m~\\Anaconda3\\lib\\site-packages\\matplotlib\\__init__.py\u001b[0m in \u001b[0;36minner\u001b[1;34m(ax, data, *args, **kwargs)\u001b[0m\n\u001b[0;32m   1599\u001b[0m     \u001b[1;32mdef\u001b[0m \u001b[0minner\u001b[0m\u001b[1;33m(\u001b[0m\u001b[0max\u001b[0m\u001b[1;33m,\u001b[0m \u001b[1;33m*\u001b[0m\u001b[0margs\u001b[0m\u001b[1;33m,\u001b[0m \u001b[0mdata\u001b[0m\u001b[1;33m=\u001b[0m\u001b[1;32mNone\u001b[0m\u001b[1;33m,\u001b[0m \u001b[1;33m**\u001b[0m\u001b[0mkwargs\u001b[0m\u001b[1;33m)\u001b[0m\u001b[1;33m:\u001b[0m\u001b[1;33m\u001b[0m\u001b[1;33m\u001b[0m\u001b[0m\n\u001b[0;32m   1600\u001b[0m         \u001b[1;32mif\u001b[0m \u001b[0mdata\u001b[0m \u001b[1;32mis\u001b[0m \u001b[1;32mNone\u001b[0m\u001b[1;33m:\u001b[0m\u001b[1;33m\u001b[0m\u001b[1;33m\u001b[0m\u001b[0m\n\u001b[1;32m-> 1601\u001b[1;33m             \u001b[1;32mreturn\u001b[0m \u001b[0mfunc\u001b[0m\u001b[1;33m(\u001b[0m\u001b[0max\u001b[0m\u001b[1;33m,\u001b[0m \u001b[1;33m*\u001b[0m\u001b[0mmap\u001b[0m\u001b[1;33m(\u001b[0m\u001b[0msanitize_sequence\u001b[0m\u001b[1;33m,\u001b[0m \u001b[0margs\u001b[0m\u001b[1;33m)\u001b[0m\u001b[1;33m,\u001b[0m \u001b[1;33m**\u001b[0m\u001b[0mkwargs\u001b[0m\u001b[1;33m)\u001b[0m\u001b[1;33m\u001b[0m\u001b[1;33m\u001b[0m\u001b[0m\n\u001b[0m\u001b[0;32m   1602\u001b[0m \u001b[1;33m\u001b[0m\u001b[0m\n\u001b[0;32m   1603\u001b[0m         \u001b[0mbound\u001b[0m \u001b[1;33m=\u001b[0m \u001b[0mnew_sig\u001b[0m\u001b[1;33m.\u001b[0m\u001b[0mbind\u001b[0m\u001b[1;33m(\u001b[0m\u001b[0max\u001b[0m\u001b[1;33m,\u001b[0m \u001b[1;33m*\u001b[0m\u001b[0margs\u001b[0m\u001b[1;33m,\u001b[0m \u001b[1;33m**\u001b[0m\u001b[0mkwargs\u001b[0m\u001b[1;33m)\u001b[0m\u001b[1;33m\u001b[0m\u001b[1;33m\u001b[0m\u001b[0m\n",
      "\u001b[1;31mTypeError\u001b[0m: hist() got multiple values for argument 'x'"
     ]
    },
    {
     "data": {
      "image/png": "[encoded data removed]",
      "text/plain": [
       "<Figure size 432x288 with 9 Axes>"
      ]
     },
     "metadata": {
      "needs_background": "light"
     },
     "output_type": "display_data"
    }
   ],
   "source": [
    "age_winners.hist(x ='Age_Group')"
   ]
  },
  {
   "cell_type": "code",
   "execution_count": 73,
   "metadata": {},
   "outputs": [
    {
     "data": {
      "image/png": "[encoded data removed]",
      "text/plain": [
       "<Figure size 544.125x360 with 1 Axes>"
      ]
     },
     "metadata": {
      "needs_background": "light"
     },
     "output_type": "display_data"
    }
   ],
   "source": [
    "sns.lmplot(x='Age', y='AG_Pct', hue='Race_Year', data=age_winners, ci=None);\n"
   ]
  },
  {
   "cell_type": "code",
   "execution_count": 75,
   "metadata": {},
   "outputs": [
    {
     "data": {
      "text/html": [
       "<div>\n",
       "<style scoped>\n",
       "    .dataframe tbody tr th:only-of-type {\n",
       "        vertical-align: middle;\n",
       "    }\n",
       "\n",
       "    .dataframe tbody tr th {\n",
       "        vertical-align: top;\n",
       "    }\n",
       "\n",
       "    .dataframe thead th {\n",
       "        text-align: right;\n",
       "    }\n",
       "</style>\n",
       "<table border=\"1\" class=\"dataframe\">\n",
       "  <thead>\n",
       "    <tr style=\"text-align: right;\">\n",
       "      <th></th>\n",
       "      <th>Age</th>\n",
       "      <th>Overall_Place</th>\n",
       "      <th>Gender_Place</th>\n",
       "      <th>Division_Place</th>\n",
       "      <th>AG_Pct</th>\n",
       "      <th>AG_Place</th>\n",
       "      <th>Place_Diff</th>\n",
       "    </tr>\n",
       "    <tr>\n",
       "      <th>Race_Year</th>\n",
       "      <th></th>\n",
       "      <th></th>\n",
       "      <th></th>\n",
       "      <th></th>\n",
       "      <th></th>\n",
       "      <th></th>\n",
       "      <th></th>\n",
       "    </tr>\n",
       "  </thead>\n",
       "  <tbody>\n",
       "    <tr>\n",
       "      <td>2009-01-01</td>\n",
       "      <td>56.421053</td>\n",
       "      <td>5481.684211</td>\n",
       "      <td>2573.894737</td>\n",
       "      <td>1.0</td>\n",
       "      <td>0.857091</td>\n",
       "      <td>278.157895</td>\n",
       "      <td>5203.526316</td>\n",
       "    </tr>\n",
       "    <tr>\n",
       "      <td>2019-01-01</td>\n",
       "      <td>58.100000</td>\n",
       "      <td>6008.850000</td>\n",
       "      <td>2780.800000</td>\n",
       "      <td>1.0</td>\n",
       "      <td>0.897479</td>\n",
       "      <td>186.000000</td>\n",
       "      <td>552.666667</td>\n",
       "    </tr>\n",
       "  </tbody>\n",
       "</table>\n",
       "</div>"
      ],
      "text/plain": [
       "                  Age  Overall_Place  Gender_Place  Division_Place    AG_Pct  \\\n",
       "Race_Year                                                                      \n",
       "2009-01-01  56.421053    5481.684211   2573.894737             1.0  0.857091   \n",
       "2019-01-01  58.100000    6008.850000   2780.800000             1.0  0.897479   \n",
       "\n",
       "              AG_Place   Place_Diff  \n",
       "Race_Year                            \n",
       "2009-01-01  278.157895  5203.526316  \n",
       "2019-01-01  186.000000   552.666667  "
      ]
     },
     "execution_count": 75,
     "metadata": {},
     "output_type": "execute_result"
    }
   ],
   "source": [
    "age_winners.groupby(['Race_Year']).mean()"
   ]
  },
  {
   "cell_type": "code",
   "execution_count": 76,
   "metadata": {},
   "outputs": [
    {
     "data": {
      "text/plain": [
       "count    39.000000\n",
       "mean      0.877803\n",
       "std       0.055317\n",
       "min       0.760400\n",
       "25%       0.850103\n",
       "50%       0.877723\n",
       "75%       0.927597\n",
       "max       0.970156\n",
       "Name: AG_Pct, dtype: float64"
      ]
     },
     "execution_count": 76,
     "metadata": {},
     "output_type": "execute_result"
    }
   ],
   "source": [
    "age_winners['AG_Pct'].describe()"
   ]
  },
  {
   "cell_type": "code",
   "execution_count": null,
   "metadata": {},
   "outputs": [],
   "source": []
  }
 ],
 "metadata": {
  "kernelspec": {
   "display_name": "Python 3",
   "language": "python",
   "name": "python3"
  },
  "language_info": {
   "codemirror_mode": {
    "name": "ipython",
    "version": 3
   },
   "file_extension": ".py",
   "mimetype": "text/x-python",
   "name": "python",
   "nbconvert_exporter": "python",
   "pygments_lexer": "ipython3",
   "version": "3.7.4"
  }
 },
 "nbformat": 4,
 "nbformat_minor": 2
}
