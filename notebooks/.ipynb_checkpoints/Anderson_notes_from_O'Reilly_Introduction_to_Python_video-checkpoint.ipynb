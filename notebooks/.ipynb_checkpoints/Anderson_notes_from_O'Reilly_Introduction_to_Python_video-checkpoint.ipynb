{
 "cells": [
  {
   "cell_type": "code",
   "execution_count": 1,
   "metadata": {},
   "outputs": [
    {
     "data": {
      "text/plain": [
       "2"
      ]
     },
     "execution_count": 1,
     "metadata": {},
     "output_type": "execute_result"
    }
   ],
   "source": [
    "1+1"
   ]
  },
  {
   "cell_type": "code",
   "execution_count": 2,
   "metadata": {},
   "outputs": [
    {
     "data": {
      "text/plain": [
       "8"
      ]
     },
     "execution_count": 2,
     "metadata": {},
     "output_type": "execute_result"
    }
   ],
   "source": [
    "x = 4\n",
    "x*2"
   ]
  },
  {
   "cell_type": "code",
   "execution_count": 3,
   "metadata": {},
   "outputs": [
    {
     "data": {
      "text/plain": [
       "16"
      ]
     },
     "execution_count": 3,
     "metadata": {},
     "output_type": "execute_result"
    }
   ],
   "source": [
    "x*4"
   ]
  },
  {
   "cell_type": "code",
   "execution_count": 4,
   "metadata": {},
   "outputs": [
    {
     "data": {
      "text/plain": [
       "int"
      ]
     },
     "execution_count": 4,
     "metadata": {},
     "output_type": "execute_result"
    }
   ],
   "source": [
    "type(1)"
   ]
  },
  {
   "cell_type": "markdown",
   "metadata": {},
   "source": [
    "## Python Basic Data Types"
   ]
  },
  {
   "cell_type": "code",
   "execution_count": 38,
   "metadata": {},
   "outputs": [],
   "source": [
    "#integer whole number\n",
    "#float number understanding decimal places\n",
    "#string sequence of characters surrounded by quotes; a way to print and communicate with the outside world; can concatenate with +\n",
    "#Boolean True/False"
   ]
  },
  {
   "cell_type": "code",
   "execution_count": 39,
   "metadata": {},
   "outputs": [
    {
     "data": {
      "text/plain": [
       "'1'"
      ]
     },
     "execution_count": 39,
     "metadata": {},
     "output_type": "execute_result"
    }
   ],
   "source": [
    "#convert # to string\n",
    "str(1)"
   ]
  },
  {
   "cell_type": "code",
   "execution_count": 41,
   "metadata": {},
   "outputs": [
    {
     "data": {
      "text/plain": [
       "'1.1'"
      ]
     },
     "execution_count": 41,
     "metadata": {},
     "output_type": "execute_result"
    }
   ],
   "source": [
    "str(1.1)"
   ]
  },
  {
   "cell_type": "code",
   "execution_count": 42,
   "metadata": {},
   "outputs": [
    {
     "data": {
      "text/plain": [
       "5"
      ]
     },
     "execution_count": 42,
     "metadata": {},
     "output_type": "execute_result"
    }
   ],
   "source": [
    "#find length\n",
    "len('Hello')"
   ]
  },
  {
   "cell_type": "code",
   "execution_count": 43,
   "metadata": {},
   "outputs": [
    {
     "data": {
      "text/plain": [
       "'AAAAAAAAAAAAAAAAAAAAAAAAAAAAAAAAAAAAAAAA'"
      ]
     },
     "execution_count": 43,
     "metadata": {},
     "output_type": "execute_result"
    }
   ],
   "source": [
    "#can multiply strings\n",
    "\"A\" * 40"
   ]
  },
  {
   "cell_type": "code",
   "execution_count": 44,
   "metadata": {},
   "outputs": [
    {
     "data": {
      "text/plain": [
       "False"
      ]
     },
     "execution_count": 44,
     "metadata": {},
     "output_type": "execute_result"
    }
   ],
   "source": [
    "#can test inequality with != and equality with ==\n",
    "#this shows python is case sensitive\n",
    "\"a\"==\"A\""
   ]
  },
  {
   "cell_type": "code",
   "execution_count": 45,
   "metadata": {},
   "outputs": [
    {
     "data": {
      "text/plain": [
       "True"
      ]
     },
     "execution_count": 45,
     "metadata": {},
     "output_type": "execute_result"
    }
   ],
   "source": [
    "\"H\" in \"Hello\""
   ]
  },
  {
   "cell_type": "code",
   "execution_count": 46,
   "metadata": {},
   "outputs": [
    {
     "data": {
      "text/plain": [
       "True"
      ]
     },
     "execution_count": 46,
     "metadata": {},
     "output_type": "execute_result"
    }
   ],
   "source": [
    "\"X\" not in \"Hello\""
   ]
  },
  {
   "cell_type": "code",
   "execution_count": null,
   "metadata": {},
   "outputs": [],
   "source": []
  },
  {
   "cell_type": "markdown",
   "metadata": {},
   "source": [
    "## Making Choices: booleans, if/elif/else, compound conditionals"
   ]
  },
  {
   "cell_type": "code",
   "execution_count": null,
   "metadata": {},
   "outputs": [],
   "source": []
  },
  {
   "cell_type": "markdown",
   "metadata": {},
   "source": [
    "## Lists"
   ]
  },
  {
   "cell_type": "code",
   "execution_count": null,
   "metadata": {},
   "outputs": [],
   "source": []
  },
  {
   "cell_type": "markdown",
   "metadata": {},
   "source": [
    "## Loops"
   ]
  },
  {
   "cell_type": "markdown",
   "metadata": {},
   "source": [
    "Two main idioms (characteristic mode of expressions): \n",
    "\n",
    "(1) iterating over a list and \n",
    "(2) looping for a fixed number of times."
   ]
  },
  {
   "cell_type": "code",
   "execution_count": 6,
   "metadata": {},
   "outputs": [
    {
     "name": "stdout",
     "output_type": "stream",
     "text": [
      "Alice\n",
      "Bob\n",
      "Cassie\n",
      "Diane\n",
      "Ellen\n"
     ]
    }
   ],
   "source": [
    "# the term name can be anything I choose\n",
    "\n",
    "names = ['Alice', 'Bob', 'Cassie', 'Diane', 'Ellen']\n",
    "\n",
    "for name in names:\n",
    "    print(name)"
   ]
  },
  {
   "cell_type": "code",
   "execution_count": 7,
   "metadata": {},
   "outputs": [
    {
     "name": "stdout",
     "output_type": "stream",
     "text": [
      "Alice starts with a vowel\n",
      "Ellen starts with a vowel\n"
     ]
    }
   ],
   "source": [
    "for name in names:\n",
    "    if name[0] in 'AEIOU':\n",
    "        print(name + ' starts with a vowel')"
   ]
  },
  {
   "cell_type": "markdown",
   "metadata": {},
   "source": [
    "If we want to BUILD a list of all student names that start with values (maybe to use for further computation)."
   ]
  },
  {
   "cell_type": "code",
   "execution_count": 11,
   "metadata": {},
   "outputs": [],
   "source": [
    "# start an empty list\n",
    "vowel_names = []\n",
    "#make for loop\n",
    "for name in names:\n",
    "    if name[0] in 'AEIOU':\n",
    "        vowel_names.append(name)"
   ]
  },
  {
   "cell_type": "code",
   "execution_count": 12,
   "metadata": {},
   "outputs": [
    {
     "data": {
      "text/plain": [
       "['Alice', 'Ellen']"
      ]
     },
     "execution_count": 12,
     "metadata": {},
     "output_type": "execute_result"
    }
   ],
   "source": [
    "vowel_names"
   ]
  },
  {
   "cell_type": "markdown",
   "metadata": {},
   "source": [
    "Say we go to the grocery store and end up with a list of prices of some items.  Want to add them up."
   ]
  },
  {
   "cell_type": "code",
   "execution_count": 13,
   "metadata": {},
   "outputs": [],
   "source": [
    "#make list of prices\n",
    "prices = [1.5, 2.35, 5.99, 16.49]\n",
    "#running total, starts at 0\n",
    "total = 0\n",
    "#now need to loop through the prices\n",
    "for price in prices:\n",
    "    total = total + price"
   ]
  },
  {
   "cell_type": "code",
   "execution_count": 14,
   "metadata": {},
   "outputs": [
    {
     "data": {
      "text/plain": [
       "26.33"
      ]
     },
     "execution_count": 14,
     "metadata": {},
     "output_type": "execute_result"
    }
   ],
   "source": [
    "total"
   ]
  },
  {
   "cell_type": "code",
   "execution_count": 15,
   "metadata": {},
   "outputs": [
    {
     "data": {
      "text/plain": [
       "26.33"
      ]
     },
     "execution_count": 15,
     "metadata": {},
     "output_type": "execute_result"
    }
   ],
   "source": [
    "# or can use built in sum function\n",
    "sum(prices)"
   ]
  },
  {
   "cell_type": "markdown",
   "metadata": {},
   "source": [
    "### Lists and loops are very important concept in python!"
   ]
  },
  {
   "cell_type": "markdown",
   "metadata": {},
   "source": [
    "## Dictionaries"
   ]
  },
  {
   "cell_type": "markdown",
   "metadata": {},
   "source": [
    "Lists are one container type, good at storing ordered collections of items.\n",
    "\n",
    "Another container type is dictionaries.  They are a way to store key/value relationships; they don't care about ordering.  Use key to look up value.\n",
    "\n",
    "Use curly braces {}\n",
    "\n",
    "Keys have to be unique."
   ]
  },
  {
   "cell_type": "code",
   "execution_count": 18,
   "metadata": {},
   "outputs": [],
   "source": [
    "#create a variable pointing to a dictionary (we know it's a dictionary b/c of curly braces).  Inside, comma-separated set of key/value pairs.  \n",
    "ice_cream = {\"Alice\": \"chocolate\", \"Bob\": \"strawberry\", \"Cara\": \"mint chocolate chip\"}"
   ]
  },
  {
   "cell_type": "code",
   "execution_count": 19,
   "metadata": {},
   "outputs": [
    {
     "data": {
      "text/plain": [
       "'chocolate'"
      ]
     },
     "execution_count": 19,
     "metadata": {},
     "output_type": "execute_result"
    }
   ],
   "source": [
    "ice_cream[\"Alice\"]"
   ]
  },
  {
   "cell_type": "code",
   "execution_count": 20,
   "metadata": {},
   "outputs": [],
   "source": [
    "# Add entry\n",
    "ice_cream[\"Eve\"] = \"rum raisin\""
   ]
  },
  {
   "cell_type": "code",
   "execution_count": 21,
   "metadata": {},
   "outputs": [
    {
     "data": {
      "text/plain": [
       "{'Alice': 'chocolate',\n",
       " 'Bob': 'strawberry',\n",
       " 'Cara': 'mint chocolate chip',\n",
       " 'Eve': 'rum raisin'}"
      ]
     },
     "execution_count": 21,
     "metadata": {},
     "output_type": "execute_result"
    }
   ],
   "source": [
    "ice_cream"
   ]
  },
  {
   "cell_type": "code",
   "execution_count": 22,
   "metadata": {},
   "outputs": [
    {
     "data": {
      "text/plain": [
       "True"
      ]
     },
     "execution_count": 22,
     "metadata": {},
     "output_type": "execute_result"
    }
   ],
   "source": [
    "#check containment\n",
    "\"Eve\" in ice_cream"
   ]
  },
  {
   "cell_type": "code",
   "execution_count": 25,
   "metadata": {},
   "outputs": [
    {
     "data": {
      "text/plain": [
       "{}"
      ]
     },
     "execution_count": 25,
     "metadata": {},
     "output_type": "execute_result"
    }
   ],
   "source": [
    "#create empty dictionary\n",
    "phone_numbers = {}\n",
    "phone_numbers"
   ]
  },
  {
   "cell_type": "code",
   "execution_count": 24,
   "metadata": {},
   "outputs": [
    {
     "data": {
      "text/plain": [
       "dict"
      ]
     },
     "execution_count": 24,
     "metadata": {},
     "output_type": "execute_result"
    }
   ],
   "source": [
    "#check type\n",
    "type(phone_numbers)"
   ]
  },
  {
   "cell_type": "markdown",
   "metadata": {},
   "source": [
    "## Modules\n",
    "\n",
    "### randint(lower bound, upper bound) generates random integer b/w upper and lower\n",
    "\n",
    "### choice (list) outputs random entry from list"
   ]
  },
  {
   "cell_type": "code",
   "execution_count": 26,
   "metadata": {},
   "outputs": [],
   "source": [
    "import random"
   ]
  },
  {
   "cell_type": "code",
   "execution_count": 27,
   "metadata": {},
   "outputs": [
    {
     "data": {
      "text/plain": [
       "1"
      ]
     },
     "execution_count": 27,
     "metadata": {},
     "output_type": "execute_result"
    }
   ],
   "source": [
    "#specify lower and upper bounds to generate random #\n",
    "random.randint(1,6)"
   ]
  },
  {
   "cell_type": "code",
   "execution_count": 28,
   "metadata": {},
   "outputs": [
    {
     "data": {
      "text/plain": [
       "3"
      ]
     },
     "execution_count": 28,
     "metadata": {},
     "output_type": "execute_result"
    }
   ],
   "source": [
    "random.randint(1,6)"
   ]
  },
  {
   "cell_type": "code",
   "execution_count": 29,
   "metadata": {},
   "outputs": [
    {
     "data": {
      "text/plain": [
       "'king'"
      ]
     },
     "execution_count": 29,
     "metadata": {},
     "output_type": "execute_result"
    }
   ],
   "source": [
    "#randomly pick an item on a list\n",
    "cards= ['jack', 'queen', 'king', 'ace']\n",
    "random.choice(cards)"
   ]
  },
  {
   "cell_type": "markdown",
   "metadata": {},
   "source": [
    "## Python Scripts and Files"
   ]
  },
  {
   "cell_type": "code",
   "execution_count": 30,
   "metadata": {},
   "outputs": [
    {
     "name": "stdout",
     "output_type": "stream",
     "text": [
      "Your die roll is: 1\n"
     ]
    }
   ],
   "source": [
    "#import random\n",
    "number = random.randint(1,6)\n",
    "print(\"Your die roll is: \" + str(number))"
   ]
  },
  {
   "cell_type": "markdown",
   "metadata": {},
   "source": [
    "## Command Line Navigation"
   ]
  },
  {
   "cell_type": "code",
   "execution_count": 37,
   "metadata": {},
   "outputs": [],
   "source": [
    "# pwd  print working directory (tells where I am in file system)\n",
    "# ls   list contents where I am\n",
    "# cd   change directory\n",
    "# cd .. go up in directory"
   ]
  },
  {
   "cell_type": "markdown",
   "metadata": {},
   "source": [
    "### Write a program"
   ]
  },
  {
   "cell_type": "code",
   "execution_count": 34,
   "metadata": {},
   "outputs": [
    {
     "name": "stdout",
     "output_type": "stream",
     "text": [
      "test> Hello Erin\n"
     ]
    }
   ],
   "source": [
    "#input formula\n",
    "# a way to interact with our user; stores what user types in when input prompt running\n",
    "user_input = input(\"test> \")"
   ]
  },
  {
   "cell_type": "code",
   "execution_count": 35,
   "metadata": {},
   "outputs": [],
   "source": [
    "#state capitals quiz\n",
    "\n",
    "capitals_dict = {\n",
    "'Alabama' : 'Montgomery',\n",
    "'Alaska' : 'Juneau',\n",
    "'Arizona' : 'Phoenix',\n",
    "'Arkansas' : 'Little Rock',\n",
    "'California' : 'Sacramento',\n",
    "'Colorado' : 'Denver',\n",
    "'Connecticut' : 'Hartford',\n",
    "'Delaware' : 'Dover',\n",
    "'Florida' : 'Tallahassee',\n",
    "'Georgia' : 'Atlanta',\n",
    "'Hawaii' : 'Honolulu',\n",
    "'Idaho' : 'Boise',\n",
    "'Illinois' : 'Springfield',\n",
    "'Indiana' : 'Indianapolis',\n",
    "'Iowa' : 'Des Moines',\n",
    "'Kansas' : 'Topeka',\n",
    "'Kentucky' : 'Frankfort',\n",
    "'Louisiana' : 'Baton Rouge',\n",
    "'Maine' : 'Augusta',\n",
    "'Maryland' : 'Annapolis',\n",
    "'Massachusetts' : 'Boston',\n",
    "'Michigan' : 'Lansing',\n",
    "'Minnesota' : 'Saint Paul',\n",
    "'Mississippi' : 'Jackson',\n",
    "'Missouri' : 'Jefferson City',\n",
    "'Montana' : 'Helena',\n",
    "'Nebraska' : 'Lincoln',\n",
    "'Nevada' : 'Carson City',\n",
    "'New Hampshire' : 'Concord',\n",
    "'New Jersey' : 'Trenton',\n",
    "'New Mexico' : 'Santa Fe',\n",
    "'New York' : 'Albany',\n",
    "'North Carolina' : 'Raleigh',\n",
    "'North Dakota' : 'Bismarck',\n",
    "'Ohio' : 'Columbus',\n",
    "'Oklahoma' : 'Oklahoma City',\n",
    "'Oregon' : 'Salem',\n",
    "'Pennsylvania' : 'Harrisburg',\n",
    "'Rhode Island' : 'Providence',\n",
    "'South Carolina' : 'Columbia',\n",
    "'South Dakota' : 'Pierre',\n",
    "'Tennessee' : 'Nashville',\n",
    "'Texas' : 'Austin',\n",
    "'Utah' : 'Salt Lake City',\n",
    "'Vermont' : 'Montpelier',\n",
    "'Virginia' : 'Richmond',\n",
    "'Washington' : 'Olympia',\n",
    "'West Virginia' : 'Charleston',\n",
    "'Wisconsin' : 'Madison',\n",
    "'Wyoming' : 'Cheyenne',\n",
    "}"
   ]
  },
  {
   "cell_type": "code",
   "execution_count": 36,
   "metadata": {},
   "outputs": [
    {
     "name": "stdout",
     "output_type": "stream",
     "text": [
      "What is the capital of Iowa? Des Moine\n",
      "Incorrect. The capital of Iowa is Des Moines.\n",
      "What is the capital of Kansas? Topeka\n",
      "Correct! Nice job.\n",
      "What is the capital of Washington? Seattle\n",
      "Incorrect. The capital of Washington is Olympia.\n",
      "What is the capital of Maryland? Annapolis\n",
      "Correct! Nice job.\n",
      "What is the capital of New Mexico? \n",
      "Incorrect. The capital of New Mexico is Santa Fe.\n",
      "All done\n"
     ]
    }
   ],
   "source": [
    "import random\n",
    "\n",
    "states = list(capitals_dict.keys())\n",
    "for i in [1, 2, 3, 4, 5]:\n",
    "    state = random.choice(states)\n",
    "    capital = capitals_dict[state]\n",
    "    capital_guess = input(\"What is the capital of \" + state + \"? \")\n",
    "\n",
    "    if capital_guess == capital:\n",
    "        print(\"Correct! Nice job.\")\n",
    "    else:\n",
    "        print(\"Incorrect. The capital of \" + state + \" is \" + capital + \".\")\n",
    "\n",
    "print(\"All done\")"
   ]
  },
  {
   "cell_type": "markdown",
   "metadata": {},
   "source": [
    "## While loops"
   ]
  },
  {
   "cell_type": "code",
   "execution_count": 47,
   "metadata": {},
   "outputs": [],
   "source": [
    "#loop for so long as a condition is true"
   ]
  },
  {
   "cell_type": "code",
   "execution_count": 48,
   "metadata": {},
   "outputs": [
    {
     "name": "stdout",
     "output_type": "stream",
     "text": [
      "Hello 0\n",
      "Hello 1\n",
      "Hello 2\n",
      "Hello 3\n",
      "Hello 4\n"
     ]
    }
   ],
   "source": [
    "#for i in [0,1,2,3,4]:\n",
    "#    print(\"Hello \") + str(i))\n",
    "\n",
    "#counter here is similar to i in for loop\n",
    "counter = 0\n",
    "while counter < 5:\n",
    "    print(\"Hello \" + str(counter))\n",
    "   #increment the counter\n",
    "    counter = counter+1"
   ]
  },
  {
   "cell_type": "code",
   "execution_count": 49,
   "metadata": {},
   "outputs": [
    {
     "name": "stdout",
     "output_type": "stream",
     "text": [
      "Hello 0\n",
      "Hello 1\n",
      "Hello 2\n",
      "Hello 3\n",
      "Hello 4\n"
     ]
    }
   ],
   "source": [
    "# want to loop, in principle, forever\n",
    "# use break\n",
    "counter= 0\n",
    "while True:\n",
    "    print(\"Hello \" + str(counter))\n",
    "    counter = counter + 1\n",
    "    \n",
    "    if counter >= 5:\n",
    "        break\n",
    "    "
   ]
  },
  {
   "cell_type": "code",
   "execution_count": 50,
   "metadata": {},
   "outputs": [
    {
     "name": "stdout",
     "output_type": "stream",
     "text": [
      "Hello human\n",
      "> Hi computer\n",
      "Hi computer\n",
      "> quit\n",
      "Goodbye human!\n"
     ]
    }
   ],
   "source": [
    "print(\"Hello human\")\n",
    "\n",
    "while True:\n",
    "    user_input = input(\"> \")\n",
    "    if user_input == \"quit\":\n",
    "        print(\"Goodbye human!\")\n",
    "        break\n",
    "    else:\n",
    "        print(user_input)"
   ]
  },
  {
   "cell_type": "markdown",
   "metadata": {},
   "source": [
    "Convert state capital quiz to while loop."
   ]
  },
  {
   "cell_type": "code",
   "execution_count": 52,
   "metadata": {},
   "outputs": [
    {
     "name": "stdout",
     "output_type": "stream",
     "text": [
      "What is the capital of South Dakota? Don't know\n",
      "Incorrect. The capital of South Dakota is Pierre.\n",
      "What is the capital of Indiana? Indianapolis\n",
      "Correct! Nice job.\n",
      "What is the capital of Mississippi? Me\n",
      "Incorrect. The capital of Mississippi is Jackson.\n",
      "What is the capital of Hawaii? quit\n",
      "All done\n"
     ]
    }
   ],
   "source": [
    "import random\n",
    "\n",
    "states = list(capitals_dict.keys())\n",
    "while True:\n",
    "    state = random.choice(states)\n",
    "    capital = capitals_dict[state]\n",
    "    capital_guess = input(\"What is the capital of \" + state + \"? \")\n",
    "    \n",
    "    if capital_guess == \"quit\":\n",
    "        break\n",
    "    elif capital_guess == capital:\n",
    "        print(\"Correct! Nice job.\")\n",
    "    else:\n",
    "        print(\"Incorrect. The capital of \" + state + \" is \" + capital + \".\")\n",
    "\n",
    "print(\"All done\")"
   ]
  },
  {
   "cell_type": "markdown",
   "metadata": {},
   "source": [
    "## Reading from and Writing to Files"
   ]
  },
  {
   "cell_type": "code",
   "execution_count": 64,
   "metadata": {},
   "outputs": [
    {
     "name": "stdout",
     "output_type": "stream",
     "text": [
      "Afghanistan\n",
      "\n",
      "Albania\n",
      "\n",
      "Algeria\n",
      "\n",
      "Andorra\n",
      "\n",
      "Angola\n",
      "\n",
      "Antigua & Deps\n",
      "\n",
      "Argentina\n",
      "\n",
      "Armenia\n",
      "\n",
      "Australia\n",
      "\n",
      "Austria\n",
      "\n",
      "Azerbaijan\n",
      "\n",
      "Bahamas\n",
      "\n",
      "Bahrain\n",
      "\n",
      "Bangladesh\n",
      "\n",
      "Barbados\n",
      "\n",
      "Belarus\n",
      "\n",
      "Belgium\n",
      "\n",
      "Belize\n",
      "\n",
      "Benin\n",
      "\n",
      "Bhutan\n",
      "\n",
      "Bolivia\n",
      "\n",
      "Bosnia Herzegovina\n",
      "\n",
      "Botswana\n",
      "\n",
      "Brazil\n",
      "\n",
      "Brunei\n",
      "\n",
      "Bulgaria\n",
      "\n",
      "Burkina\n",
      "\n",
      "Burundi\n",
      "\n",
      "Cambodia\n",
      "\n",
      "Cameroon\n",
      "\n",
      "Canada\n",
      "\n",
      "Cape Verde\n",
      "\n",
      "Central African Rep\n",
      "\n",
      "Chad\n",
      "\n",
      "Chile\n",
      "\n",
      "China\n",
      "\n",
      "Colombia\n",
      "\n",
      "Comoros\n",
      "\n",
      "Congo\n",
      "\n",
      "Congo {Democratic Rep}\n",
      "\n",
      "Costa Rica\n",
      "\n",
      "Croatia\n",
      "\n",
      "Cuba\n",
      "\n",
      "Cyprus\n",
      "\n",
      "Czech Republic\n",
      "\n",
      "Denmark\n",
      "\n",
      "Djibouti\n",
      "\n",
      "Dominica\n",
      "\n",
      "Dominican Republic\n",
      "\n",
      "East Timor\n",
      "\n",
      "Ecuador\n",
      "\n",
      "Egypt\n",
      "\n",
      "El Salvador\n",
      "\n",
      "Equatorial Guinea\n",
      "\n",
      "Eritrea\n",
      "\n",
      "Estonia\n",
      "\n",
      "Ethiopia\n",
      "\n",
      "Fiji\n",
      "\n",
      "Finland\n",
      "\n",
      "France\n",
      "\n",
      "Gabon\n",
      "\n",
      "Gambia\n",
      "\n",
      "Georgia\n",
      "\n",
      "Germany\n",
      "\n",
      "Ghana\n",
      "\n",
      "Greece\n",
      "\n",
      "Grenada\n",
      "\n",
      "Guatemala\n",
      "\n",
      "Guinea\n",
      "\n",
      "Guinea-Bissau\n",
      "\n",
      "Guyana\n",
      "\n",
      "Haiti\n",
      "\n",
      "Honduras\n",
      "\n",
      "Hungary\n",
      "\n",
      "Iceland\n",
      "\n",
      "India\n",
      "\n",
      "Indonesia\n",
      "\n",
      "Iran\n",
      "\n",
      "Iraq\n",
      "\n",
      "Ireland {Republic}\n",
      "\n",
      "Israel\n",
      "\n",
      "Italy\n",
      "\n",
      "Ivory Coast\n",
      "\n",
      "Jamaica\n",
      "\n",
      "Japan\n",
      "\n",
      "Jordan\n",
      "\n",
      "Kazakhstan\n",
      "\n",
      "Kenya\n",
      "\n",
      "Kiribati\n",
      "\n",
      "Korea North\n",
      "\n",
      "Korea South\n",
      "\n",
      "Kosovo\n",
      "\n",
      "Kuwait\n",
      "\n",
      "Kyrgyzstan\n",
      "\n",
      "Laos\n",
      "\n",
      "Latvia\n",
      "\n",
      "Lebanon\n",
      "\n",
      "Lesotho\n",
      "\n",
      "Liberia\n",
      "\n",
      "Libya\n",
      "\n",
      "Liechtenstein\n",
      "\n",
      "Lithuania\n",
      "\n",
      "Luxembourg\n",
      "\n",
      "Macedonia\n",
      "\n",
      "Madagascar\n",
      "\n",
      "Malawi\n",
      "\n",
      "Malaysia\n",
      "\n",
      "Maldives\n",
      "\n",
      "Mali\n",
      "\n",
      "Malta\n",
      "\n",
      "Marshall Islands\n",
      "\n",
      "Mauritania\n",
      "\n",
      "Mauritius\n",
      "\n",
      "Mexico\n",
      "\n",
      "Micronesia\n",
      "\n",
      "Moldova\n",
      "\n",
      "Monaco\n",
      "\n",
      "Mongolia\n",
      "\n",
      "Montenegro\n",
      "\n",
      "Morocco\n",
      "\n",
      "Mozambique\n",
      "\n",
      "Myanmar\n",
      "\n",
      "Burma\n",
      "\n",
      "Namibia\n",
      "\n",
      "Nauru\n",
      "\n",
      "Nepal\n",
      "\n",
      "Netherlands\n",
      "\n",
      "New Zealand\n",
      "\n",
      "Nicaragua\n",
      "\n",
      "Niger\n",
      "\n",
      "Nigeria\n",
      "\n",
      "Norway\n",
      "\n",
      "Oman\n",
      "\n",
      "Pakistan\n",
      "\n",
      "Palau\n",
      "\n",
      "Panama\n",
      "\n",
      "Papua New Guinea\n",
      "\n",
      "Paraguay\n",
      "\n",
      "Peru\n",
      "\n",
      "Philippines\n",
      "\n",
      "Poland\n",
      "\n",
      "Portugal\n",
      "\n",
      "Qatar\n",
      "\n",
      "Romania\n",
      "\n",
      "Russian Federation\n",
      "\n",
      "Rwanda\n",
      "\n",
      "St Kitts & Nevis\n",
      "\n",
      "St Lucia\n",
      "\n",
      "Saint Vincent & the Grenadines\n",
      "\n",
      "Samoa\n",
      "\n",
      "San Marino\n",
      "\n",
      "Sao Tome & Principe\n",
      "\n",
      "Saudi Arabia\n",
      "\n",
      "Senegal\n",
      "\n",
      "Serbia\n",
      "\n",
      "Seychelles\n",
      "\n",
      "Sierra Leone\n",
      "\n",
      "Singapore\n",
      "\n",
      "Slovakia\n",
      "\n",
      "Slovenia\n",
      "\n",
      "Solomon Islands\n",
      "\n",
      "Somalia\n",
      "\n",
      "South Africa\n",
      "\n",
      "South Sudan\n",
      "\n",
      "Spain\n",
      "\n",
      "Sri Lanka\n",
      "\n",
      "Sudan\n",
      "\n",
      "Suriname\n",
      "\n",
      "Swaziland\n",
      "\n",
      "Sweden\n",
      "\n",
      "Switzerland\n",
      "\n",
      "Syria\n",
      "\n",
      "Taiwan\n",
      "\n",
      "Tajikistan\n",
      "\n",
      "Tanzania\n",
      "\n",
      "Thailand\n",
      "\n",
      "Togo\n",
      "\n",
      "Tonga\n",
      "\n",
      "Trinidad & Tobago\n",
      "\n",
      "Tunisia\n",
      "\n",
      "Turkey\n",
      "\n",
      "Turkmenistan\n",
      "\n",
      "Tuvalu\n",
      "\n",
      "Uganda\n",
      "\n",
      "Ukraine\n",
      "\n",
      "United Arab Emirates\n",
      "\n",
      "United Kingdom\n",
      "\n",
      "United States\n",
      "\n",
      "Uruguay\n",
      "\n",
      "Uzbekistan\n",
      "\n",
      "Vanuatu\n",
      "\n",
      "Vatican City\n",
      "\n",
      "Venezuela\n",
      "\n",
      "Vietnam\n",
      "\n",
      "Yemen\n",
      "\n",
      "Zambia\n",
      "\n",
      "Zimbabwe\n",
      "\n"
     ]
    }
   ],
   "source": [
    "# mode to open: read, write, append\n",
    "f=open(\"../Oreilly_introduction_to_python/countries.txt\", 'r')\n",
    "\n",
    "#loop over each line, similar to a list\n",
    "for line in f:\n",
    "    print(line)\n",
    "\n",
    "f.close()"
   ]
  },
  {
   "cell_type": "code",
   "execution_count": 63,
   "metadata": {},
   "outputs": [
    {
     "name": "stdout",
     "output_type": "stream",
     "text": [
      "Afghanistan\n",
      "Albania\n",
      "Algeria\n",
      "Andorra\n",
      "Angola\n",
      "Antigua & Deps\n",
      "Argentina\n",
      "Armenia\n",
      "Australia\n",
      "Austria\n",
      "Azerbaijan\n",
      "Bahamas\n",
      "Bahrain\n",
      "Bangladesh\n",
      "Barbados\n",
      "Belarus\n",
      "Belgium\n",
      "Belize\n",
      "Benin\n",
      "Bhutan\n",
      "Bolivia\n",
      "Bosnia Herzegovina\n",
      "Botswana\n",
      "Brazil\n",
      "Brunei\n",
      "Bulgaria\n",
      "Burkina\n",
      "Burundi\n",
      "Cambodia\n",
      "Cameroon\n",
      "Canada\n",
      "Cape Verde\n",
      "Central African Rep\n",
      "Chad\n",
      "Chile\n",
      "China\n",
      "Colombia\n",
      "Comoros\n",
      "Congo\n",
      "Congo {Democratic Rep}\n",
      "Costa Rica\n",
      "Croatia\n",
      "Cuba\n",
      "Cyprus\n",
      "Czech Republic\n",
      "Denmark\n",
      "Djibouti\n",
      "Dominica\n",
      "Dominican Republic\n",
      "East Timor\n",
      "Ecuador\n",
      "Egypt\n",
      "El Salvador\n",
      "Equatorial Guinea\n",
      "Eritrea\n",
      "Estonia\n",
      "Ethiopia\n",
      "Fiji\n",
      "Finland\n",
      "France\n",
      "Gabon\n",
      "Gambia\n",
      "Georgia\n",
      "Germany\n",
      "Ghana\n",
      "Greece\n",
      "Grenada\n",
      "Guatemala\n",
      "Guinea\n",
      "Guinea-Bissau\n",
      "Guyana\n",
      "Haiti\n",
      "Honduras\n",
      "Hungary\n",
      "Iceland\n",
      "India\n",
      "Indonesia\n",
      "Iran\n",
      "Iraq\n",
      "Ireland {Republic}\n",
      "Israel\n",
      "Italy\n",
      "Ivory Coast\n",
      "Jamaica\n",
      "Japan\n",
      "Jordan\n",
      "Kazakhstan\n",
      "Kenya\n",
      "Kiribati\n",
      "Korea North\n",
      "Korea South\n",
      "Kosovo\n",
      "Kuwait\n",
      "Kyrgyzstan\n",
      "Laos\n",
      "Latvia\n",
      "Lebanon\n",
      "Lesotho\n",
      "Liberia\n",
      "Libya\n",
      "Liechtenstein\n",
      "Lithuania\n",
      "Luxembourg\n",
      "Macedonia\n",
      "Madagascar\n",
      "Malawi\n",
      "Malaysia\n",
      "Maldives\n",
      "Mali\n",
      "Malta\n",
      "Marshall Islands\n",
      "Mauritania\n",
      "Mauritius\n",
      "Mexico\n",
      "Micronesia\n",
      "Moldova\n",
      "Monaco\n",
      "Mongolia\n",
      "Montenegro\n",
      "Morocco\n",
      "Mozambique\n",
      "Myanmar\n",
      "Burma\n",
      "Namibia\n",
      "Nauru\n",
      "Nepal\n",
      "Netherlands\n",
      "New Zealand\n",
      "Nicaragua\n",
      "Niger\n",
      "Nigeria\n",
      "Norway\n",
      "Oman\n",
      "Pakistan\n",
      "Palau\n",
      "Panama\n",
      "Papua New Guinea\n",
      "Paraguay\n",
      "Peru\n",
      "Philippines\n",
      "Poland\n",
      "Portugal\n",
      "Qatar\n",
      "Romania\n",
      "Russian Federation\n",
      "Rwanda\n",
      "St Kitts & Nevis\n",
      "St Lucia\n",
      "Saint Vincent & the Grenadines\n",
      "Samoa\n",
      "San Marino\n",
      "Sao Tome & Principe\n",
      "Saudi Arabia\n",
      "Senegal\n",
      "Serbia\n",
      "Seychelles\n",
      "Sierra Leone\n",
      "Singapore\n",
      "Slovakia\n",
      "Slovenia\n",
      "Solomon Islands\n",
      "Somalia\n",
      "South Africa\n",
      "South Sudan\n",
      "Spain\n",
      "Sri Lanka\n",
      "Sudan\n",
      "Suriname\n",
      "Swaziland\n",
      "Sweden\n",
      "Switzerland\n",
      "Syria\n",
      "Taiwan\n",
      "Tajikistan\n",
      "Tanzania\n",
      "Thailand\n",
      "Togo\n",
      "Tonga\n",
      "Trinidad & Tobago\n",
      "Tunisia\n",
      "Turkey\n",
      "Turkmenistan\n",
      "Tuvalu\n",
      "Uganda\n",
      "Ukraine\n",
      "United Arab Emirates\n",
      "United Kingdom\n",
      "United States\n",
      "Uruguay\n",
      "Uzbekistan\n",
      "Vanuatu\n",
      "Vatican City\n",
      "Venezuela\n",
      "Vietnam\n",
      "Yemen\n",
      "Zambia\n",
      "Zimbabwe\n"
     ]
    }
   ],
   "source": [
    "#print implicitly appends a new line\n",
    "#strip trailing white strip: line.strip()\n",
    "\n",
    "f=open(\"../Oreilly_introduction_to_python/countries.txt\", 'r')\n",
    "\n",
    "for line in f:\n",
    "    line = line.strip()\n",
    "    print(line)\n",
    "\n",
    "f.close()\n"
   ]
  },
  {
   "cell_type": "code",
   "execution_count": 62,
   "metadata": {},
   "outputs": [
    {
     "name": "stdout",
     "output_type": "stream",
     "text": [
      "['Afghanistan', 'Albania', 'Algeria', 'Andorra', 'Angola', 'Antigua & Deps', 'Argentina', 'Armenia', 'Australia', 'Austria', 'Azerbaijan', 'Bahamas', 'Bahrain', 'Bangladesh', 'Barbados', 'Belarus', 'Belgium', 'Belize', 'Benin', 'Bhutan', 'Bolivia', 'Bosnia Herzegovina', 'Botswana', 'Brazil', 'Brunei', 'Bulgaria', 'Burkina', 'Burundi', 'Cambodia', 'Cameroon', 'Canada', 'Cape Verde', 'Central African Rep', 'Chad', 'Chile', 'China', 'Colombia', 'Comoros', 'Congo', 'Congo {Democratic Rep}', 'Costa Rica', 'Croatia', 'Cuba', 'Cyprus', 'Czech Republic', 'Denmark', 'Djibouti', 'Dominica', 'Dominican Republic', 'East Timor', 'Ecuador', 'Egypt', 'El Salvador', 'Equatorial Guinea', 'Eritrea', 'Estonia', 'Ethiopia', 'Fiji', 'Finland', 'France', 'Gabon', 'Gambia', 'Georgia', 'Germany', 'Ghana', 'Greece', 'Grenada', 'Guatemala', 'Guinea', 'Guinea-Bissau', 'Guyana', 'Haiti', 'Honduras', 'Hungary', 'Iceland', 'India', 'Indonesia', 'Iran', 'Iraq', 'Ireland {Republic}', 'Israel', 'Italy', 'Ivory Coast', 'Jamaica', 'Japan', 'Jordan', 'Kazakhstan', 'Kenya', 'Kiribati', 'Korea North', 'Korea South', 'Kosovo', 'Kuwait', 'Kyrgyzstan', 'Laos', 'Latvia', 'Lebanon', 'Lesotho', 'Liberia', 'Libya', 'Liechtenstein', 'Lithuania', 'Luxembourg', 'Macedonia', 'Madagascar', 'Malawi', 'Malaysia', 'Maldives', 'Mali', 'Malta', 'Marshall Islands', 'Mauritania', 'Mauritius', 'Mexico', 'Micronesia', 'Moldova', 'Monaco', 'Mongolia', 'Montenegro', 'Morocco', 'Mozambique', 'Myanmar', 'Burma', 'Namibia', 'Nauru', 'Nepal', 'Netherlands', 'New Zealand', 'Nicaragua', 'Niger', 'Nigeria', 'Norway', 'Oman', 'Pakistan', 'Palau', 'Panama', 'Papua New Guinea', 'Paraguay', 'Peru', 'Philippines', 'Poland', 'Portugal', 'Qatar', 'Romania', 'Russian Federation', 'Rwanda', 'St Kitts & Nevis', 'St Lucia', 'Saint Vincent & the Grenadines', 'Samoa', 'San Marino', 'Sao Tome & Principe', 'Saudi Arabia', 'Senegal', 'Serbia', 'Seychelles', 'Sierra Leone', 'Singapore', 'Slovakia', 'Slovenia', 'Solomon Islands', 'Somalia', 'South Africa', 'South Sudan', 'Spain', 'Sri Lanka', 'Sudan', 'Suriname', 'Swaziland', 'Sweden', 'Switzerland', 'Syria', 'Taiwan', 'Tajikistan', 'Tanzania', 'Thailand', 'Togo', 'Tonga', 'Trinidad & Tobago', 'Tunisia', 'Turkey', 'Turkmenistan', 'Tuvalu', 'Uganda', 'Ukraine', 'United Arab Emirates', 'United Kingdom', 'United States', 'Uruguay', 'Uzbekistan', 'Vanuatu', 'Vatican City', 'Venezuela', 'Vietnam', 'Yemen', 'Zambia', 'Zimbabwe']\n"
     ]
    }
   ],
   "source": [
    "#if want to make list\n",
    "\n",
    "f=open(\"../Oreilly_introduction_to_python/countries.txt\", 'r')\n",
    "\n",
    "countries = []\n",
    "\n",
    "for line in f:\n",
    "    line = line.strip()\n",
    "    countries.append(line)\n",
    "    \n",
    "f.close()\n",
    "\n",
    "print(countries)"
   ]
  },
  {
   "cell_type": "code",
   "execution_count": 66,
   "metadata": {},
   "outputs": [
    {
     "name": "stdout",
     "output_type": "stream",
     "text": [
      "197\n"
     ]
    }
   ],
   "source": [
    "#How many countries are there?\n",
    "print(len(countries))"
   ]
  },
  {
   "cell_type": "code",
   "execution_count": 68,
   "metadata": {},
   "outputs": [
    {
     "name": "stdout",
     "output_type": "stream",
     "text": [
      "Taiwan\n",
      "Tajikistan\n",
      "Tanzania\n",
      "Thailand\n",
      "Togo\n",
      "Tonga\n",
      "Trinidad & Tobago\n",
      "Tunisia\n",
      "Turkey\n",
      "Turkmenistan\n",
      "Tuvalu\n"
     ]
    }
   ],
   "source": [
    "#Which countries start with a T?\n",
    "\n",
    "for country in countries:\n",
    "    if country[0] ==\"T\":\n",
    "        print(country)"
   ]
  },
  {
   "cell_type": "code",
   "execution_count": 70,
   "metadata": {},
   "outputs": [
    {
     "name": "stdout",
     "output_type": "stream",
     "text": [
      "8\n"
     ]
    }
   ],
   "source": [
    "#How many countries start with a T?\n",
    "print(len(country))"
   ]
  },
  {
   "cell_type": "markdown",
   "metadata": {},
   "source": [
    "### Write data to files "
   ]
  },
  {
   "cell_type": "code",
   "execution_count": 79,
   "metadata": {},
   "outputs": [],
   "source": [
    "f = open(\"scores.txt\", \"w\")"
   ]
  },
  {
   "cell_type": "code",
   "execution_count": 80,
   "metadata": {},
   "outputs": [
    {
     "name": "stdout",
     "output_type": "stream",
     "text": [
      "Participant name > Erin\n",
      "Score for Erin> 100\n",
      "Participant name > Meghan\n",
      "Score for Meghan> 99\n",
      "Participant name > Bryan\n",
      "Score for Bryan> 101\n",
      "Participant name > quit\n",
      "Quitting...\n"
     ]
    }
   ],
   "source": [
    "while True:\n",
    "    participant = input(\"Participant name > \")\n",
    "    \n",
    "    if participant == \"quit\":\n",
    "        print(\"Quitting...\")\n",
    "        break\n",
    "        \n",
    "    score = input(\"Score for \" + participant + \"> \")\n",
    "    f.write(participant + \",\" + score + \"\\n\")\n"
   ]
  },
  {
   "cell_type": "code",
   "execution_count": 81,
   "metadata": {},
   "outputs": [],
   "source": [
    "f.close()"
   ]
  },
  {
   "cell_type": "markdown",
   "metadata": {},
   "source": [
    "Read file back in."
   ]
  },
  {
   "cell_type": "code",
   "execution_count": 90,
   "metadata": {},
   "outputs": [
    {
     "name": "stdout",
     "output_type": "stream",
     "text": [
      "['Erin', '100']\n",
      "['Meghan', '99']\n",
      "['Bryan', '101']\n"
     ]
    }
   ],
   "source": [
    "f=open(\"scores.txt\", \"r\")\n",
    "\n",
    "#store in dictionary\n",
    "\n",
    "participants= {}\n",
    "\n",
    "for line in f:\n",
    "    print(line.strip().split(\",\"))"
   ]
  },
  {
   "cell_type": "code",
   "execution_count": 94,
   "metadata": {},
   "outputs": [
    {
     "name": "stdout",
     "output_type": "stream",
     "text": [
      "Erin: 100\n",
      "Meghan: 99\n",
      "Bryan: 101\n",
      "{'Erin': '100', 'Meghan': '99', 'Bryan': '101'}\n"
     ]
    }
   ],
   "source": [
    "#open file for reading\n",
    "f=open(\"scores.txt\", \"r\")\n",
    "\n",
    "#set up empty dictionary, which we will populate as we loop through every line in scores file\n",
    "\n",
    "participants= {}\n",
    "\n",
    "#strip the trailing new line and then have split function to split string into list at comma, and then pull out individual pieces\n",
    "for line in f:\n",
    "    entry = line.strip().split(\",\")\n",
    "    participant = entry[0]\n",
    "    score = entry[1]\n",
    "    participants[participant] = score\n",
    "    print(participant + \": \" + score)\n",
    "\n",
    "f.close()\n",
    "\n",
    "print(participants)"
   ]
  },
  {
   "cell_type": "markdown",
   "metadata": {},
   "source": [
    "Flashcard Quizzer"
   ]
  },
  {
   "cell_type": "code",
   "execution_count": 95,
   "metadata": {},
   "outputs": [
    {
     "ename": "ValueError",
     "evalue": "'flashcards.py' was not found in history, as a file, url, nor in the user namespace.",
     "output_type": "error",
     "traceback": [
      "\u001b[1;31m---------------------------------------------------------------------------\u001b[0m",
      "\u001b[1;31mNameError\u001b[0m                                 Traceback (most recent call last)",
      "\u001b[1;32m~\\Anaconda3\\lib\\site-packages\\IPython\\core\\interactiveshell.py\u001b[0m in \u001b[0;36mfind_user_code\u001b[1;34m(self, target, raw, py_only, skip_encoding_cookie, search_ns)\u001b[0m\n\u001b[0;32m   3644\u001b[0m         \u001b[1;32mtry\u001b[0m\u001b[1;33m:\u001b[0m                                              \u001b[1;31m# User namespace\u001b[0m\u001b[1;33m\u001b[0m\u001b[1;33m\u001b[0m\u001b[0m\n\u001b[1;32m-> 3645\u001b[1;33m             \u001b[0mcodeobj\u001b[0m \u001b[1;33m=\u001b[0m \u001b[0meval\u001b[0m\u001b[1;33m(\u001b[0m\u001b[0mtarget\u001b[0m\u001b[1;33m,\u001b[0m \u001b[0mself\u001b[0m\u001b[1;33m.\u001b[0m\u001b[0muser_ns\u001b[0m\u001b[1;33m)\u001b[0m\u001b[1;33m\u001b[0m\u001b[1;33m\u001b[0m\u001b[0m\n\u001b[0m\u001b[0;32m   3646\u001b[0m         \u001b[1;32mexcept\u001b[0m \u001b[0mException\u001b[0m\u001b[1;33m:\u001b[0m\u001b[1;33m\u001b[0m\u001b[1;33m\u001b[0m\u001b[0m\n",
      "\u001b[1;32m<string>\u001b[0m in \u001b[0;36m<module>\u001b[1;34m\u001b[0m\n",
      "\u001b[1;31mNameError\u001b[0m: name 'flashcards' is not defined",
      "\nDuring handling of the above exception, another exception occurred:\n",
      "\u001b[1;31mValueError\u001b[0m                                Traceback (most recent call last)",
      "\u001b[1;32m<ipython-input-95-7536200eda84>\u001b[0m in \u001b[0;36m<module>\u001b[1;34m\u001b[0m\n\u001b[1;32m----> 1\u001b[1;33m \u001b[0mget_ipython\u001b[0m\u001b[1;33m(\u001b[0m\u001b[1;33m)\u001b[0m\u001b[1;33m.\u001b[0m\u001b[0mrun_line_magic\u001b[0m\u001b[1;33m(\u001b[0m\u001b[1;34m'load'\u001b[0m\u001b[1;33m,\u001b[0m \u001b[1;34m'flashcards.py'\u001b[0m\u001b[1;33m)\u001b[0m\u001b[1;33m\u001b[0m\u001b[1;33m\u001b[0m\u001b[0m\n\u001b[0m",
      "\u001b[1;32m~\\Anaconda3\\lib\\site-packages\\IPython\\core\\interactiveshell.py\u001b[0m in \u001b[0;36mrun_line_magic\u001b[1;34m(self, magic_name, line, _stack_depth)\u001b[0m\n\u001b[0;32m   2312\u001b[0m                 \u001b[0mkwargs\u001b[0m\u001b[1;33m[\u001b[0m\u001b[1;34m'local_ns'\u001b[0m\u001b[1;33m]\u001b[0m \u001b[1;33m=\u001b[0m \u001b[0msys\u001b[0m\u001b[1;33m.\u001b[0m\u001b[0m_getframe\u001b[0m\u001b[1;33m(\u001b[0m\u001b[0mstack_depth\u001b[0m\u001b[1;33m)\u001b[0m\u001b[1;33m.\u001b[0m\u001b[0mf_locals\u001b[0m\u001b[1;33m\u001b[0m\u001b[1;33m\u001b[0m\u001b[0m\n\u001b[0;32m   2313\u001b[0m             \u001b[1;32mwith\u001b[0m \u001b[0mself\u001b[0m\u001b[1;33m.\u001b[0m\u001b[0mbuiltin_trap\u001b[0m\u001b[1;33m:\u001b[0m\u001b[1;33m\u001b[0m\u001b[1;33m\u001b[0m\u001b[0m\n\u001b[1;32m-> 2314\u001b[1;33m                 \u001b[0mresult\u001b[0m \u001b[1;33m=\u001b[0m \u001b[0mfn\u001b[0m\u001b[1;33m(\u001b[0m\u001b[1;33m*\u001b[0m\u001b[0margs\u001b[0m\u001b[1;33m,\u001b[0m \u001b[1;33m**\u001b[0m\u001b[0mkwargs\u001b[0m\u001b[1;33m)\u001b[0m\u001b[1;33m\u001b[0m\u001b[1;33m\u001b[0m\u001b[0m\n\u001b[0m\u001b[0;32m   2315\u001b[0m             \u001b[1;32mreturn\u001b[0m \u001b[0mresult\u001b[0m\u001b[1;33m\u001b[0m\u001b[1;33m\u001b[0m\u001b[0m\n\u001b[0;32m   2316\u001b[0m \u001b[1;33m\u001b[0m\u001b[0m\n",
      "\u001b[1;32m<C:\\Users\\erinm\\Anaconda3\\lib\\site-packages\\decorator.py:decorator-gen-47>\u001b[0m in \u001b[0;36mload\u001b[1;34m(self, arg_s)\u001b[0m\n",
      "\u001b[1;32m~\\Anaconda3\\lib\\site-packages\\IPython\\core\\magic.py\u001b[0m in \u001b[0;36m<lambda>\u001b[1;34m(f, *a, **k)\u001b[0m\n\u001b[0;32m    185\u001b[0m     \u001b[1;31m# but it's overkill for just that one bit of state.\u001b[0m\u001b[1;33m\u001b[0m\u001b[1;33m\u001b[0m\u001b[1;33m\u001b[0m\u001b[0m\n\u001b[0;32m    186\u001b[0m     \u001b[1;32mdef\u001b[0m \u001b[0mmagic_deco\u001b[0m\u001b[1;33m(\u001b[0m\u001b[0marg\u001b[0m\u001b[1;33m)\u001b[0m\u001b[1;33m:\u001b[0m\u001b[1;33m\u001b[0m\u001b[1;33m\u001b[0m\u001b[0m\n\u001b[1;32m--> 187\u001b[1;33m         \u001b[0mcall\u001b[0m \u001b[1;33m=\u001b[0m \u001b[1;32mlambda\u001b[0m \u001b[0mf\u001b[0m\u001b[1;33m,\u001b[0m \u001b[1;33m*\u001b[0m\u001b[0ma\u001b[0m\u001b[1;33m,\u001b[0m \u001b[1;33m**\u001b[0m\u001b[0mk\u001b[0m\u001b[1;33m:\u001b[0m \u001b[0mf\u001b[0m\u001b[1;33m(\u001b[0m\u001b[1;33m*\u001b[0m\u001b[0ma\u001b[0m\u001b[1;33m,\u001b[0m \u001b[1;33m**\u001b[0m\u001b[0mk\u001b[0m\u001b[1;33m)\u001b[0m\u001b[1;33m\u001b[0m\u001b[1;33m\u001b[0m\u001b[0m\n\u001b[0m\u001b[0;32m    188\u001b[0m \u001b[1;33m\u001b[0m\u001b[0m\n\u001b[0;32m    189\u001b[0m         \u001b[1;32mif\u001b[0m \u001b[0mcallable\u001b[0m\u001b[1;33m(\u001b[0m\u001b[0marg\u001b[0m\u001b[1;33m)\u001b[0m\u001b[1;33m:\u001b[0m\u001b[1;33m\u001b[0m\u001b[1;33m\u001b[0m\u001b[0m\n",
      "\u001b[1;32m~\\Anaconda3\\lib\\site-packages\\IPython\\core\\magics\\code.py\u001b[0m in \u001b[0;36mload\u001b[1;34m(self, arg_s)\u001b[0m\n\u001b[0;32m    333\u001b[0m         \u001b[0msearch_ns\u001b[0m \u001b[1;33m=\u001b[0m \u001b[1;34m'n'\u001b[0m \u001b[1;32min\u001b[0m \u001b[0mopts\u001b[0m\u001b[1;33m\u001b[0m\u001b[1;33m\u001b[0m\u001b[0m\n\u001b[0;32m    334\u001b[0m \u001b[1;33m\u001b[0m\u001b[0m\n\u001b[1;32m--> 335\u001b[1;33m         \u001b[0mcontents\u001b[0m \u001b[1;33m=\u001b[0m \u001b[0mself\u001b[0m\u001b[1;33m.\u001b[0m\u001b[0mshell\u001b[0m\u001b[1;33m.\u001b[0m\u001b[0mfind_user_code\u001b[0m\u001b[1;33m(\u001b[0m\u001b[0margs\u001b[0m\u001b[1;33m,\u001b[0m \u001b[0msearch_ns\u001b[0m\u001b[1;33m=\u001b[0m\u001b[0msearch_ns\u001b[0m\u001b[1;33m)\u001b[0m\u001b[1;33m\u001b[0m\u001b[1;33m\u001b[0m\u001b[0m\n\u001b[0m\u001b[0;32m    336\u001b[0m \u001b[1;33m\u001b[0m\u001b[0m\n\u001b[0;32m    337\u001b[0m         \u001b[1;32mif\u001b[0m \u001b[1;34m's'\u001b[0m \u001b[1;32min\u001b[0m \u001b[0mopts\u001b[0m\u001b[1;33m:\u001b[0m\u001b[1;33m\u001b[0m\u001b[1;33m\u001b[0m\u001b[0m\n",
      "\u001b[1;32m~\\Anaconda3\\lib\\site-packages\\IPython\\core\\interactiveshell.py\u001b[0m in \u001b[0;36mfind_user_code\u001b[1;34m(self, target, raw, py_only, skip_encoding_cookie, search_ns)\u001b[0m\n\u001b[0;32m   3646\u001b[0m         \u001b[1;32mexcept\u001b[0m \u001b[0mException\u001b[0m\u001b[1;33m:\u001b[0m\u001b[1;33m\u001b[0m\u001b[1;33m\u001b[0m\u001b[0m\n\u001b[0;32m   3647\u001b[0m             raise ValueError((\"'%s' was not found in history, as a file, url, \"\n\u001b[1;32m-> 3648\u001b[1;33m                                 \"nor in the user namespace.\") % target)\n\u001b[0m\u001b[0;32m   3649\u001b[0m \u001b[1;33m\u001b[0m\u001b[0m\n\u001b[0;32m   3650\u001b[0m         \u001b[1;32mif\u001b[0m \u001b[0misinstance\u001b[0m\u001b[1;33m(\u001b[0m\u001b[0mcodeobj\u001b[0m\u001b[1;33m,\u001b[0m \u001b[0mstr\u001b[0m\u001b[1;33m)\u001b[0m\u001b[1;33m:\u001b[0m\u001b[1;33m\u001b[0m\u001b[1;33m\u001b[0m\u001b[0m\n",
      "\u001b[1;31mValueError\u001b[0m: 'flashcards.py' was not found in history, as a file, url, nor in the user namespace."
     ]
    }
   ],
   "source": [
    "%load flashcards.py"
   ]
  },
  {
   "cell_type": "code",
   "execution_count": null,
   "metadata": {},
   "outputs": [],
   "source": []
  }
 ],
 "metadata": {
  "kernelspec": {
   "display_name": "Python 3",
   "language": "python",
   "name": "python3"
  },
  "language_info": {
   "codemirror_mode": {
    "name": "ipython",
    "version": 3
   },
   "file_extension": ".py",
   "mimetype": "text/x-python",
   "name": "python",
   "nbconvert_exporter": "python",
   "pygments_lexer": "ipython3",
   "version": "3.7.4"
  }
 },
 "nbformat": 4,
 "nbformat_minor": 2
}
